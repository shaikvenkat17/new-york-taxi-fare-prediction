{
 "cells": [
  {
   "cell_type": "code",
   "execution_count": 1,
   "id": "4b50997d",
   "metadata": {},
   "outputs": [
    {
     "data": {
      "text/html": [
       "<div>\n",
       "<style scoped>\n",
       "    .dataframe tbody tr th:only-of-type {\n",
       "        vertical-align: middle;\n",
       "    }\n",
       "\n",
       "    .dataframe tbody tr th {\n",
       "        vertical-align: top;\n",
       "    }\n",
       "\n",
       "    .dataframe thead th {\n",
       "        text-align: right;\n",
       "    }\n",
       "</style>\n",
       "<table border=\"1\" class=\"dataframe\">\n",
       "  <thead>\n",
       "    <tr style=\"text-align: right;\">\n",
       "      <th></th>\n",
       "      <th>key</th>\n",
       "      <th>fare_amount</th>\n",
       "      <th>pickup_datetime</th>\n",
       "      <th>pickup_longitude</th>\n",
       "      <th>pickup_latitude</th>\n",
       "      <th>dropoff_longitude</th>\n",
       "      <th>dropoff_latitude</th>\n",
       "      <th>passenger_count</th>\n",
       "    </tr>\n",
       "  </thead>\n",
       "  <tbody>\n",
       "    <tr>\n",
       "      <th>0</th>\n",
       "      <td>2009-04-08 19:11:10.0000004</td>\n",
       "      <td>4.9</td>\n",
       "      <td>2009-04-08 19:11:10 UTC</td>\n",
       "      <td>-73.998287</td>\n",
       "      <td>40.727490</td>\n",
       "      <td>-73.989854</td>\n",
       "      <td>40.735239</td>\n",
       "      <td>2</td>\n",
       "    </tr>\n",
       "    <tr>\n",
       "      <th>1</th>\n",
       "      <td>2012-07-30 16:19:08.0000003</td>\n",
       "      <td>4.9</td>\n",
       "      <td>2012-07-30 16:19:08 UTC</td>\n",
       "      <td>-73.966597</td>\n",
       "      <td>40.794345</td>\n",
       "      <td>-73.965682</td>\n",
       "      <td>40.803808</td>\n",
       "      <td>2</td>\n",
       "    </tr>\n",
       "    <tr>\n",
       "      <th>2</th>\n",
       "      <td>2011-02-22 13:35:00.000000121</td>\n",
       "      <td>6.9</td>\n",
       "      <td>2011-02-22 13:35:00 UTC</td>\n",
       "      <td>-73.971638</td>\n",
       "      <td>40.763382</td>\n",
       "      <td>-73.953767</td>\n",
       "      <td>40.783715</td>\n",
       "      <td>1</td>\n",
       "    </tr>\n",
       "    <tr>\n",
       "      <th>3</th>\n",
       "      <td>2010-10-07 21:09:35.0000002</td>\n",
       "      <td>14.1</td>\n",
       "      <td>2010-10-07 21:09:35 UTC</td>\n",
       "      <td>-74.003545</td>\n",
       "      <td>40.707399</td>\n",
       "      <td>-73.981312</td>\n",
       "      <td>40.750071</td>\n",
       "      <td>1</td>\n",
       "    </tr>\n",
       "    <tr>\n",
       "      <th>4</th>\n",
       "      <td>2009-10-02 22:51:00.000000140</td>\n",
       "      <td>12.1</td>\n",
       "      <td>2009-10-02 22:51:00 UTC</td>\n",
       "      <td>-74.004532</td>\n",
       "      <td>40.707465</td>\n",
       "      <td>-73.977908</td>\n",
       "      <td>40.745633</td>\n",
       "      <td>5</td>\n",
       "    </tr>\n",
       "  </tbody>\n",
       "</table>\n",
       "</div>"
      ],
      "text/plain": [
       "                             key  fare_amount          pickup_datetime  \\\n",
       "0    2009-04-08 19:11:10.0000004          4.9  2009-04-08 19:11:10 UTC   \n",
       "1    2012-07-30 16:19:08.0000003          4.9  2012-07-30 16:19:08 UTC   \n",
       "2  2011-02-22 13:35:00.000000121          6.9  2011-02-22 13:35:00 UTC   \n",
       "3    2010-10-07 21:09:35.0000002         14.1  2010-10-07 21:09:35 UTC   \n",
       "4  2009-10-02 22:51:00.000000140         12.1  2009-10-02 22:51:00 UTC   \n",
       "\n",
       "   pickup_longitude  pickup_latitude  dropoff_longitude  dropoff_latitude  \\\n",
       "0        -73.998287        40.727490         -73.989854         40.735239   \n",
       "1        -73.966597        40.794345         -73.965682         40.803808   \n",
       "2        -73.971638        40.763382         -73.953767         40.783715   \n",
       "3        -74.003545        40.707399         -73.981312         40.750071   \n",
       "4        -74.004532        40.707465         -73.977908         40.745633   \n",
       "\n",
       "   passenger_count  \n",
       "0                2  \n",
       "1                2  \n",
       "2                1  \n",
       "3                1  \n",
       "4                5  "
      ]
     },
     "execution_count": 1,
     "metadata": {},
     "output_type": "execute_result"
    }
   ],
   "source": [
    "import numpy as np \n",
    "import pandas as pd \n",
    "import seaborn as sns\n",
    "import matplotlib.pyplot as plt\n",
    "from sklearn.preprocessing import StandardScaler\n",
    "from sklearn.pipeline import Pipeline\n",
    "from sklearn.model_selection import train_test_split, GridSearchCV\n",
    "from sklearn.linear_model import Lasso\n",
    "train = pd.read_csv(\"/Users/shaikrahul/Desktop/cs550-Machine learning/Prog_Assignments/train_NYTaxi.csv\")\n",
    "testt = pd.read_csv(\"/Users/shaikrahul/Desktop/cs550-Machine learning/Prog_Assignments/test_NYTaxi.csv\")\n",
    "train  = train.drop('Unnamed: 0',axis=1)\n",
    "train.head()"
   ]
  },
  {
   "cell_type": "code",
   "execution_count": 2,
   "id": "d55e1e8d",
   "metadata": {},
   "outputs": [
    {
     "name": "stdout",
     "output_type": "stream",
     "text": [
      "Shape of the Training data : (100000, 8)\n",
      "All columns are : ['key', 'fare_amount', 'pickup_datetime', 'pickup_longitude', 'pickup_latitude', 'dropoff_longitude', 'dropoff_latitude', 'passenger_count']\n",
      "<class 'pandas.core.frame.DataFrame'>\n",
      "RangeIndex: 100000 entries, 0 to 99999\n",
      "Data columns (total 8 columns):\n",
      " #   Column             Non-Null Count   Dtype  \n",
      "---  ------             --------------   -----  \n",
      " 0   key                100000 non-null  object \n",
      " 1   fare_amount        100000 non-null  float64\n",
      " 2   pickup_datetime    100000 non-null  object \n",
      " 3   pickup_longitude   100000 non-null  float64\n",
      " 4   pickup_latitude    100000 non-null  float64\n",
      " 5   dropoff_longitude  100000 non-null  float64\n",
      " 6   dropoff_latitude   100000 non-null  float64\n",
      " 7   passenger_count    100000 non-null  int64  \n",
      "dtypes: float64(5), int64(1), object(2)\n",
      "memory usage: 6.1+ MB\n"
     ]
    }
   ],
   "source": [
    "# Check no of rows & columns in the dataset\n",
    "print(\"Shape of the Training data :\", train.shape)\n",
    "\n",
    "# See all the columns in the dataset\n",
    "print(\"All columns are :\", list(train.columns))\n",
    "train.info()"
   ]
  },
  {
   "cell_type": "code",
   "execution_count": 3,
   "id": "f888420c",
   "metadata": {},
   "outputs": [
    {
     "data": {
      "text/plain": [
       "key                  0\n",
       "fare_amount          0\n",
       "pickup_datetime      0\n",
       "pickup_longitude     0\n",
       "pickup_latitude      0\n",
       "dropoff_longitude    0\n",
       "dropoff_latitude     0\n",
       "passenger_count      0\n",
       "dtype: int64"
      ]
     },
     "execution_count": 3,
     "metadata": {},
     "output_type": "execute_result"
    }
   ],
   "source": [
    "#check for missing values in train data\n",
    "train.isnull().sum()"
   ]
  },
  {
   "cell_type": "code",
   "execution_count": 4,
   "id": "0e579a55",
   "metadata": {},
   "outputs": [
    {
     "data": {
      "text/plain": [
       "key                  0\n",
       "pickup_datetime      0\n",
       "pickup_longitude     0\n",
       "pickup_latitude      0\n",
       "dropoff_longitude    0\n",
       "dropoff_latitude     0\n",
       "passenger_count      0\n",
       "dtype: int64"
      ]
     },
     "execution_count": 4,
     "metadata": {},
     "output_type": "execute_result"
    }
   ],
   "source": [
    "#check for missing values in test data\n",
    "testt.isnull().sum()"
   ]
  },
  {
   "cell_type": "code",
   "execution_count": 5,
   "id": "4d072827",
   "metadata": {},
   "outputs": [
    {
     "data": {
      "text/plain": [
       "0     4.9\n",
       "1     4.9\n",
       "2     6.9\n",
       "3    14.1\n",
       "4    12.1\n",
       "Name: fare_amount, dtype: float64"
      ]
     },
     "execution_count": 5,
     "metadata": {},
     "output_type": "execute_result"
    }
   ],
   "source": [
    "## drop the missing values\n",
    "## there is no misssing values\n",
    "train['fare_amount'].head()"
   ]
  },
  {
   "cell_type": "code",
   "execution_count": 6,
   "id": "fb20f9c0",
   "metadata": {},
   "outputs": [
    {
     "name": "stdout",
     "output_type": "stream",
     "text": [
      "No.of non-positive fare_amoun values is 6\n",
      "\n"
     ]
    },
    {
     "data": {
      "text/html": [
       "<div>\n",
       "<style scoped>\n",
       "    .dataframe tbody tr th:only-of-type {\n",
       "        vertical-align: middle;\n",
       "    }\n",
       "\n",
       "    .dataframe tbody tr th {\n",
       "        vertical-align: top;\n",
       "    }\n",
       "\n",
       "    .dataframe thead th {\n",
       "        text-align: right;\n",
       "    }\n",
       "</style>\n",
       "<table border=\"1\" class=\"dataframe\">\n",
       "  <thead>\n",
       "    <tr style=\"text-align: right;\">\n",
       "      <th></th>\n",
       "      <th>key</th>\n",
       "      <th>fare_amount</th>\n",
       "      <th>pickup_datetime</th>\n",
       "      <th>pickup_longitude</th>\n",
       "      <th>pickup_latitude</th>\n",
       "      <th>dropoff_longitude</th>\n",
       "      <th>dropoff_latitude</th>\n",
       "      <th>passenger_count</th>\n",
       "    </tr>\n",
       "  </thead>\n",
       "  <tbody>\n",
       "    <tr>\n",
       "      <th>38446</th>\n",
       "      <td>2010-03-13 15:29:10.0000003</td>\n",
       "      <td>-9.3</td>\n",
       "      <td>2010-03-13 15:29:10 UTC</td>\n",
       "      <td>-73.977015</td>\n",
       "      <td>40.779925</td>\n",
       "      <td>-73.949747</td>\n",
       "      <td>40.790322</td>\n",
       "      <td>3</td>\n",
       "    </tr>\n",
       "    <tr>\n",
       "      <th>38582</th>\n",
       "      <td>2010-02-27 02:37:10.0000004</td>\n",
       "      <td>-6.9</td>\n",
       "      <td>2010-02-27 02:37:10 UTC</td>\n",
       "      <td>-73.987800</td>\n",
       "      <td>40.747842</td>\n",
       "      <td>-73.981702</td>\n",
       "      <td>40.763600</td>\n",
       "      <td>1</td>\n",
       "    </tr>\n",
       "    <tr>\n",
       "      <th>44049</th>\n",
       "      <td>2015-01-25 18:00:06.0000005</td>\n",
       "      <td>0.0</td>\n",
       "      <td>2015-01-25 18:00:06 UTC</td>\n",
       "      <td>-73.801102</td>\n",
       "      <td>40.670094</td>\n",
       "      <td>-73.801086</td>\n",
       "      <td>40.670536</td>\n",
       "      <td>1</td>\n",
       "    </tr>\n",
       "    <tr>\n",
       "      <th>55472</th>\n",
       "      <td>2015-02-23 09:34:48.0000002</td>\n",
       "      <td>0.0</td>\n",
       "      <td>2015-02-23 09:34:48 UTC</td>\n",
       "      <td>-73.982201</td>\n",
       "      <td>40.768417</td>\n",
       "      <td>-73.981392</td>\n",
       "      <td>40.764874</td>\n",
       "      <td>1</td>\n",
       "    </tr>\n",
       "    <tr>\n",
       "      <th>61165</th>\n",
       "      <td>2010-03-24 14:21:10.0000001</td>\n",
       "      <td>-2.5</td>\n",
       "      <td>2010-03-24 14:21:10 UTC</td>\n",
       "      <td>-73.953752</td>\n",
       "      <td>40.813413</td>\n",
       "      <td>-73.953743</td>\n",
       "      <td>40.813407</td>\n",
       "      <td>1</td>\n",
       "    </tr>\n",
       "  </tbody>\n",
       "</table>\n",
       "</div>"
      ],
      "text/plain": [
       "                               key  fare_amount          pickup_datetime  \\\n",
       "38446  2010-03-13 15:29:10.0000003         -9.3  2010-03-13 15:29:10 UTC   \n",
       "38582  2010-02-27 02:37:10.0000004         -6.9  2010-02-27 02:37:10 UTC   \n",
       "44049  2015-01-25 18:00:06.0000005          0.0  2015-01-25 18:00:06 UTC   \n",
       "55472  2015-02-23 09:34:48.0000002          0.0  2015-02-23 09:34:48 UTC   \n",
       "61165  2010-03-24 14:21:10.0000001         -2.5  2010-03-24 14:21:10 UTC   \n",
       "\n",
       "       pickup_longitude  pickup_latitude  dropoff_longitude  dropoff_latitude  \\\n",
       "38446        -73.977015        40.779925         -73.949747         40.790322   \n",
       "38582        -73.987800        40.747842         -73.981702         40.763600   \n",
       "44049        -73.801102        40.670094         -73.801086         40.670536   \n",
       "55472        -73.982201        40.768417         -73.981392         40.764874   \n",
       "61165        -73.953752        40.813413         -73.953743         40.813407   \n",
       "\n",
       "       passenger_count  \n",
       "38446                3  \n",
       "38582                1  \n",
       "44049                1  \n",
       "55472                1  \n",
       "61165                1  "
      ]
     },
     "execution_count": 6,
     "metadata": {},
     "output_type": "execute_result"
    }
   ],
   "source": [
    "#Look for no. of non-positive fare_amount values.\n",
    "print('No.of non-positive fare_amoun values is',train[train['fare_amount'] <= 0 ].shape[0])\n",
    "print()\n",
    "train[train['fare_amount'] <= 0 ].head()"
   ]
  },
  {
   "cell_type": "code",
   "execution_count": 7,
   "id": "fad955c4",
   "metadata": {},
   "outputs": [],
   "source": [
    "# Remove the non-positive fare_amount values.\n",
    "train = train[train['fare_amount'] > 0 ]"
   ]
  },
  {
   "cell_type": "code",
   "execution_count": 8,
   "id": "ed2caeec",
   "metadata": {},
   "outputs": [],
   "source": [
    "### droping duplicates\n",
    "train.drop_duplicates(inplace=True)"
   ]
  },
  {
   "cell_type": "code",
   "execution_count": 9,
   "id": "c2c7b9ab",
   "metadata": {},
   "outputs": [
    {
     "data": {
      "text/plain": [
       "count    99994.000000\n",
       "mean        11.334431\n",
       "std          9.810440\n",
       "min          0.010000\n",
       "25%          6.000000\n",
       "50%          8.500000\n",
       "75%         12.500000\n",
       "max        394.000000\n",
       "Name: fare_amount, dtype: float64"
      ]
     },
     "execution_count": 9,
     "metadata": {},
     "output_type": "execute_result"
    }
   ],
   "source": [
    "#no more negative values in the fare field\n",
    "train['fare_amount'].describe()"
   ]
  },
  {
   "cell_type": "code",
   "execution_count": 10,
   "id": "edefacac",
   "metadata": {},
   "outputs": [],
   "source": [
    "# remove outliers"
   ]
  },
  {
   "cell_type": "code",
   "execution_count": 11,
   "id": "916d4482",
   "metadata": {},
   "outputs": [
    {
     "data": {
      "text/plain": [
       "(99992, 8)"
      ]
     },
     "execution_count": 11,
     "metadata": {},
     "output_type": "execute_result"
    }
   ],
   "source": [
    "#Googling gave me this info\n",
    "\n",
    "# Latitudes range from -90 to 90.\n",
    "# Longitudes range from -180 to 180.\n",
    "train  = train[train['pickup_longitude'] >= -180 ]\n",
    "train =  train[train['dropoff_longitude'] <= 180]\n",
    "\n",
    "train = train[train['pickup_latitude'] <=90]\n",
    "train =  train[train['dropoff_latitude'] >= -90]\n",
    "train.shape"
   ]
  },
  {
   "cell_type": "code",
   "execution_count": 12,
   "id": "2e207799",
   "metadata": {},
   "outputs": [],
   "source": [
    "# convert train dataset\n",
    "\n",
    "train['key'] = pd.to_datetime(train['key'])\n",
    "train['pickup_datetime']  = pd.to_datetime(train['pickup_datetime'])\n",
    "train.head()\n",
    "#Convert for test data\n",
    "testt['key'] = pd.to_datetime(testt['key'])\n",
    "testt['pickup_datetime']  = pd.to_datetime(testt['pickup_datetime'])"
   ]
  },
  {
   "cell_type": "code",
   "execution_count": 13,
   "id": "e5e34fdd",
   "metadata": {},
   "outputs": [
    {
     "data": {
      "text/plain": [
       "key                       datetime64[ns]\n",
       "fare_amount                      float64\n",
       "pickup_datetime      datetime64[ns, UTC]\n",
       "pickup_longitude                 float64\n",
       "pickup_latitude                  float64\n",
       "dropoff_longitude                float64\n",
       "dropoff_latitude                 float64\n",
       "passenger_count                    int64\n",
       "dtype: object"
      ]
     },
     "execution_count": 13,
     "metadata": {},
     "output_type": "execute_result"
    }
   ],
   "source": [
    "#check the dtypes after conversion\n",
    "train.dtypes"
   ]
  },
  {
   "cell_type": "code",
   "execution_count": 14,
   "id": "2b4c11e5",
   "metadata": {},
   "outputs": [
    {
     "data": {
      "text/plain": [
       "key                       datetime64[ns]\n",
       "pickup_datetime      datetime64[ns, UTC]\n",
       "pickup_longitude                 float64\n",
       "pickup_latitude                  float64\n",
       "dropoff_longitude                float64\n",
       "dropoff_latitude                 float64\n",
       "passenger_count                    int64\n",
       "dtype: object"
      ]
     },
     "execution_count": 14,
     "metadata": {},
     "output_type": "execute_result"
    }
   ],
   "source": [
    "testt.dtypes"
   ]
  },
  {
   "cell_type": "code",
   "execution_count": 15,
   "id": "2e6fdf48",
   "metadata": {},
   "outputs": [],
   "source": [
    "def haversine_distance(lat1, long1, lat2, long2):\n",
    "    data = [train, testt]\n",
    "    for i in data:\n",
    "        R = 6371  #radius of earth in kilometers\n",
    "        phi1 = np.radians(i[lat1])\n",
    "        phi2 = np.radians(i[lat2])\n",
    "    \n",
    "        delta_phi = np.radians(i[lat2]-i[lat1])\n",
    "        delta_lambda = np.radians(i[long2]-i[long1])\n",
    "    \n",
    "        #a = sin²((φB - φA)/2) + cos φA . cos φB . sin²((λB - λA)/2)\n",
    "        a = np.sin(delta_phi / 2.0) ** 2 + np.cos(phi1) * np.cos(phi2) * np.sin(delta_lambda / 2.0) ** 2\n",
    "    \n",
    "        #c = 2 * atan2( √a, √(1−a) )\n",
    "        c = 2 * np.arctan2(np.sqrt(a), np.sqrt(1-a))\n",
    "    \n",
    "        #d = R*c\n",
    "        d = (R * c) #in kilometers\n",
    "        i['H_Distance'] = d\n",
    "    return d"
   ]
  },
  {
   "cell_type": "code",
   "execution_count": 16,
   "id": "1ebaed99",
   "metadata": {},
   "outputs": [
    {
     "data": {
      "text/plain": [
       "0        2.323260\n",
       "1        2.425353\n",
       "2        0.618628\n",
       "3        1.961033\n",
       "4        5.387301\n",
       "          ...    \n",
       "9909     2.124874\n",
       "9910     3.270969\n",
       "9911    19.183941\n",
       "9912     8.343486\n",
       "9913     1.180825\n",
       "Length: 9914, dtype: float64"
      ]
     },
     "execution_count": 16,
     "metadata": {},
     "output_type": "execute_result"
    }
   ],
   "source": [
    "haversine_distance('pickup_latitude', 'pickup_longitude', 'dropoff_latitude', 'dropoff_longitude')"
   ]
  },
  {
   "cell_type": "code",
   "execution_count": 17,
   "id": "45b682ff",
   "metadata": {},
   "outputs": [
    {
     "data": {
      "text/html": [
       "<div>\n",
       "<style scoped>\n",
       "    .dataframe tbody tr th:only-of-type {\n",
       "        vertical-align: middle;\n",
       "    }\n",
       "\n",
       "    .dataframe tbody tr th {\n",
       "        vertical-align: top;\n",
       "    }\n",
       "\n",
       "    .dataframe thead th {\n",
       "        text-align: right;\n",
       "    }\n",
       "</style>\n",
       "<table border=\"1\" class=\"dataframe\">\n",
       "  <thead>\n",
       "    <tr style=\"text-align: right;\">\n",
       "      <th></th>\n",
       "      <th>key</th>\n",
       "      <th>fare_amount</th>\n",
       "      <th>pickup_datetime</th>\n",
       "      <th>pickup_longitude</th>\n",
       "      <th>pickup_latitude</th>\n",
       "      <th>dropoff_longitude</th>\n",
       "      <th>dropoff_latitude</th>\n",
       "      <th>passenger_count</th>\n",
       "      <th>H_Distance</th>\n",
       "    </tr>\n",
       "  </thead>\n",
       "  <tbody>\n",
       "    <tr>\n",
       "      <th>0</th>\n",
       "      <td>2009-04-08 19:11:10.000000400</td>\n",
       "      <td>4.9</td>\n",
       "      <td>2009-04-08 19:11:10+00:00</td>\n",
       "      <td>-73.998287</td>\n",
       "      <td>40.727490</td>\n",
       "      <td>-73.989854</td>\n",
       "      <td>40.735239</td>\n",
       "      <td>2</td>\n",
       "      <td>1.116850</td>\n",
       "    </tr>\n",
       "    <tr>\n",
       "      <th>1</th>\n",
       "      <td>2012-07-30 16:19:08.000000300</td>\n",
       "      <td>4.9</td>\n",
       "      <td>2012-07-30 16:19:08+00:00</td>\n",
       "      <td>-73.966597</td>\n",
       "      <td>40.794345</td>\n",
       "      <td>-73.965682</td>\n",
       "      <td>40.803808</td>\n",
       "      <td>2</td>\n",
       "      <td>1.055053</td>\n",
       "    </tr>\n",
       "  </tbody>\n",
       "</table>\n",
       "</div>"
      ],
      "text/plain": [
       "                            key  fare_amount           pickup_datetime  \\\n",
       "0 2009-04-08 19:11:10.000000400          4.9 2009-04-08 19:11:10+00:00   \n",
       "1 2012-07-30 16:19:08.000000300          4.9 2012-07-30 16:19:08+00:00   \n",
       "\n",
       "   pickup_longitude  pickup_latitude  dropoff_longitude  dropoff_latitude  \\\n",
       "0        -73.998287        40.727490         -73.989854         40.735239   \n",
       "1        -73.966597        40.794345         -73.965682         40.803808   \n",
       "\n",
       "   passenger_count  H_Distance  \n",
       "0                2    1.116850  \n",
       "1                2    1.055053  "
      ]
     },
     "execution_count": 17,
     "metadata": {},
     "output_type": "execute_result"
    }
   ],
   "source": [
    "train.head(2)"
   ]
  },
  {
   "cell_type": "code",
   "execution_count": 18,
   "id": "12ec0f4f",
   "metadata": {},
   "outputs": [],
   "source": [
    "\n",
    "data = [train,testt]\n",
    "for i in data:\n",
    "    i['Year'] = i['pickup_datetime'].dt.year\n",
    "    i['Month'] = i['pickup_datetime'].dt.month\n",
    "    i['Date'] = i['pickup_datetime'].dt.day\n",
    "    i['Day of Week'] = i['pickup_datetime'].dt.dayofweek\n",
    "    i['Hour'] = i['pickup_datetime'].dt.hour"
   ]
  },
  {
   "cell_type": "code",
   "execution_count": 19,
   "id": "d1aa3767",
   "metadata": {},
   "outputs": [
    {
     "data": {
      "text/html": [
       "<div>\n",
       "<style scoped>\n",
       "    .dataframe tbody tr th:only-of-type {\n",
       "        vertical-align: middle;\n",
       "    }\n",
       "\n",
       "    .dataframe tbody tr th {\n",
       "        vertical-align: top;\n",
       "    }\n",
       "\n",
       "    .dataframe thead th {\n",
       "        text-align: right;\n",
       "    }\n",
       "</style>\n",
       "<table border=\"1\" class=\"dataframe\">\n",
       "  <thead>\n",
       "    <tr style=\"text-align: right;\">\n",
       "      <th></th>\n",
       "      <th>key</th>\n",
       "      <th>fare_amount</th>\n",
       "      <th>pickup_datetime</th>\n",
       "      <th>pickup_longitude</th>\n",
       "      <th>pickup_latitude</th>\n",
       "      <th>dropoff_longitude</th>\n",
       "      <th>dropoff_latitude</th>\n",
       "      <th>passenger_count</th>\n",
       "      <th>H_Distance</th>\n",
       "      <th>Year</th>\n",
       "      <th>Month</th>\n",
       "      <th>Date</th>\n",
       "      <th>Day of Week</th>\n",
       "      <th>Hour</th>\n",
       "    </tr>\n",
       "  </thead>\n",
       "  <tbody>\n",
       "    <tr>\n",
       "      <th>0</th>\n",
       "      <td>2009-04-08 19:11:10.000000400</td>\n",
       "      <td>4.9</td>\n",
       "      <td>2009-04-08 19:11:10+00:00</td>\n",
       "      <td>-73.998287</td>\n",
       "      <td>40.72749</td>\n",
       "      <td>-73.989854</td>\n",
       "      <td>40.735239</td>\n",
       "      <td>2</td>\n",
       "      <td>1.11685</td>\n",
       "      <td>2009</td>\n",
       "      <td>4</td>\n",
       "      <td>8</td>\n",
       "      <td>2</td>\n",
       "      <td>19</td>\n",
       "    </tr>\n",
       "  </tbody>\n",
       "</table>\n",
       "</div>"
      ],
      "text/plain": [
       "                            key  fare_amount           pickup_datetime  \\\n",
       "0 2009-04-08 19:11:10.000000400          4.9 2009-04-08 19:11:10+00:00   \n",
       "\n",
       "   pickup_longitude  pickup_latitude  dropoff_longitude  dropoff_latitude  \\\n",
       "0        -73.998287         40.72749         -73.989854         40.735239   \n",
       "\n",
       "   passenger_count  H_Distance  Year  Month  Date  Day of Week  Hour  \n",
       "0                2     1.11685  2009      4     8            2    19  "
      ]
     },
     "execution_count": 19,
     "metadata": {},
     "output_type": "execute_result"
    }
   ],
   "source": [
    "train.head(1)"
   ]
  },
  {
   "cell_type": "code",
   "execution_count": 20,
   "id": "824dd821",
   "metadata": {},
   "outputs": [
    {
     "data": {
      "text/html": [
       "<div>\n",
       "<style scoped>\n",
       "    .dataframe tbody tr th:only-of-type {\n",
       "        vertical-align: middle;\n",
       "    }\n",
       "\n",
       "    .dataframe tbody tr th {\n",
       "        vertical-align: top;\n",
       "    }\n",
       "\n",
       "    .dataframe thead th {\n",
       "        text-align: right;\n",
       "    }\n",
       "</style>\n",
       "<table border=\"1\" class=\"dataframe\">\n",
       "  <thead>\n",
       "    <tr style=\"text-align: right;\">\n",
       "      <th></th>\n",
       "      <th>key</th>\n",
       "      <th>pickup_datetime</th>\n",
       "      <th>pickup_longitude</th>\n",
       "      <th>pickup_latitude</th>\n",
       "      <th>dropoff_longitude</th>\n",
       "      <th>dropoff_latitude</th>\n",
       "      <th>passenger_count</th>\n",
       "      <th>H_Distance</th>\n",
       "      <th>Year</th>\n",
       "      <th>Month</th>\n",
       "      <th>Date</th>\n",
       "      <th>Day of Week</th>\n",
       "      <th>Hour</th>\n",
       "    </tr>\n",
       "  </thead>\n",
       "  <tbody>\n",
       "    <tr>\n",
       "      <th>0</th>\n",
       "      <td>2015-01-27 13:08:24.000000200</td>\n",
       "      <td>2015-01-27 13:08:24+00:00</td>\n",
       "      <td>-73.97332</td>\n",
       "      <td>40.763805</td>\n",
       "      <td>-73.98143</td>\n",
       "      <td>40.743835</td>\n",
       "      <td>1</td>\n",
       "      <td>2.32326</td>\n",
       "      <td>2015</td>\n",
       "      <td>1</td>\n",
       "      <td>27</td>\n",
       "      <td>1</td>\n",
       "      <td>13</td>\n",
       "    </tr>\n",
       "  </tbody>\n",
       "</table>\n",
       "</div>"
      ],
      "text/plain": [
       "                            key           pickup_datetime  pickup_longitude  \\\n",
       "0 2015-01-27 13:08:24.000000200 2015-01-27 13:08:24+00:00         -73.97332   \n",
       "\n",
       "   pickup_latitude  dropoff_longitude  dropoff_latitude  passenger_count  \\\n",
       "0        40.763805          -73.98143         40.743835                1   \n",
       "\n",
       "   H_Distance  Year  Month  Date  Day of Week  Hour  \n",
       "0     2.32326  2015      1    27            1    13  "
      ]
     },
     "execution_count": 20,
     "metadata": {},
     "output_type": "execute_result"
    }
   ],
   "source": [
    "testt.head(1)"
   ]
  },
  {
   "cell_type": "code",
   "execution_count": 21,
   "id": "091052e0",
   "metadata": {},
   "outputs": [],
   "source": [
    "train['Year'] = train['Year'].astype(str)\n",
    "testt['Year'] = testt['Year'].astype(str)\n"
   ]
  },
  {
   "cell_type": "code",
   "execution_count": 22,
   "id": "487cb70f",
   "metadata": {},
   "outputs": [],
   "source": [
    "train = train.drop(['key','pickup_datetime','pickup_longitude','pickup_latitude','dropoff_longitude','dropoff_latitude'],axis=1)\n",
    "testt = testt.drop(['key','pickup_datetime','pickup_longitude','pickup_latitude','dropoff_longitude','dropoff_latitude'],axis=1)\n"
   ]
  },
  {
   "cell_type": "code",
   "execution_count": 23,
   "id": "3d2746de",
   "metadata": {},
   "outputs": [
    {
     "name": "stdout",
     "output_type": "stream",
     "text": [
      "<class 'pandas.core.frame.DataFrame'>\n",
      "Int64Index: 99992 entries, 0 to 99999\n",
      "Data columns (total 8 columns):\n",
      " #   Column           Non-Null Count  Dtype  \n",
      "---  ------           --------------  -----  \n",
      " 0   fare_amount      99992 non-null  float64\n",
      " 1   passenger_count  99992 non-null  int64  \n",
      " 2   H_Distance       99992 non-null  float64\n",
      " 3   Year             99992 non-null  object \n",
      " 4   Month            99992 non-null  int64  \n",
      " 5   Date             99992 non-null  int64  \n",
      " 6   Day of Week      99992 non-null  int64  \n",
      " 7   Hour             99992 non-null  int64  \n",
      "dtypes: float64(2), int64(5), object(1)\n",
      "memory usage: 6.9+ MB\n"
     ]
    }
   ],
   "source": [
    "train.info()"
   ]
  },
  {
   "cell_type": "code",
   "execution_count": 24,
   "id": "fcadfce6",
   "metadata": {},
   "outputs": [],
   "source": [
    "cat_col=[]\n",
    "d =[]\n",
    "for x in train.dtypes.index:\n",
    "    if train.dtypes[x] =='object':\n",
    "        cat_col.append(x)\n",
    "    else:\n",
    "        d.append(x)"
   ]
  },
  {
   "cell_type": "code",
   "execution_count": 25,
   "id": "e151edf2",
   "metadata": {
    "scrolled": true
   },
   "outputs": [
    {
     "data": {
      "image/png": "[encoded data removed]",
      "text/plain": [
       "<Figure size 360x360 with 1 Axes>"
      ]
     },
     "metadata": {
      "needs_background": "light"
     },
     "output_type": "display_data"
    },
    {
     "data": {
      "image/png": "[encoded data removed]",
      "text/plain": [
       "<Figure size 360x360 with 1 Axes>"
      ]
     },
     "metadata": {
      "needs_background": "light"
     },
     "output_type": "display_data"
    },
    {
     "data": {
      "image/png": "[encoded data removed]",
      "text/plain": [
       "<Figure size 360x360 with 1 Axes>"
      ]
     },
     "metadata": {
      "needs_background": "light"
     },
     "output_type": "display_data"
    },
    {
     "data": {
      "image/png": "[encoded data removed]",
      "text/plain": [
       "<Figure size 360x360 with 1 Axes>"
      ]
     },
     "metadata": {
      "needs_background": "light"
     },
     "output_type": "display_data"
    },
    {
     "data": {
      "image/png": "[encoded data removed]",
      "text/plain": [
       "<Figure size 360x360 with 1 Axes>"
      ]
     },
     "metadata": {
      "needs_background": "light"
     },
     "output_type": "display_data"
    },
    {
     "data": {
      "image/png": "[encoded data removed]",
      "text/plain": [
       "<Figure size 360x360 with 1 Axes>"
      ]
     },
     "metadata": {
      "needs_background": "light"
     },
     "output_type": "display_data"
    },
    {
     "data": {
      "image/png": "[encoded data removed]",
      "text/plain": [
       "<Figure size 360x360 with 1 Axes>"
      ]
     },
     "metadata": {
      "needs_background": "light"
     },
     "output_type": "display_data"
    }
   ],
   "source": [
    "import matplotlib.pyplot as plt\n",
    "def boxplot(aa):\n",
    "    fig,ax=plt.subplots(figsize=(5,5))\n",
    "    sns.boxplot(x=aa,data=train)\n",
    "    plt.xlabel(aa)\n",
    "    plt.show()\n",
    "\n",
    "\n",
    "for c in d:\n",
    "    boxplot(c)"
   ]
  },
  {
   "cell_type": "code",
   "execution_count": 26,
   "id": "18b6c31f",
   "metadata": {},
   "outputs": [
    {
     "data": {
      "text/plain": [
       "<AxesSubplot:>"
      ]
     },
     "execution_count": 26,
     "metadata": {},
     "output_type": "execute_result"
    },
    {
     "data": {
      "image/png": "[encoded data removed]",
      "text/plain": [
       "<Figure size 432x288 with 1 Axes>"
      ]
     },
     "metadata": {
      "needs_background": "light"
     },
     "output_type": "display_data"
    }
   ],
   "source": [
    "train['H_Distance'].hist(bins=10)"
   ]
  },
  {
   "cell_type": "code",
   "execution_count": 27,
   "id": "6ef1961a",
   "metadata": {},
   "outputs": [
    {
     "data": {
      "text/plain": [
       "<AxesSubplot:>"
      ]
     },
     "execution_count": 27,
     "metadata": {},
     "output_type": "execute_result"
    },
    {
     "data": {
      "image/png": "[encoded data removed]",
      "text/plain": [
       "<Figure size 432x288 with 1 Axes>"
      ]
     },
     "metadata": {
      "needs_background": "light"
     },
     "output_type": "display_data"
    }
   ],
   "source": [
    "train['passenger_count'].hist(bins=10)"
   ]
  },
  {
   "cell_type": "code",
   "execution_count": 28,
   "id": "f5e01e9c",
   "metadata": {},
   "outputs": [
    {
     "data": {
      "text/plain": [
       "array([2, 0, 1, 3, 4, 6, 5])"
      ]
     },
     "execution_count": 28,
     "metadata": {},
     "output_type": "execute_result"
    }
   ],
   "source": [
    "train['Day of Week'].unique()"
   ]
  },
  {
   "cell_type": "code",
   "execution_count": 29,
   "id": "493dcdf0",
   "metadata": {},
   "outputs": [
    {
     "data": {
      "text/html": [
       "<div>\n",
       "<style scoped>\n",
       "    .dataframe tbody tr th:only-of-type {\n",
       "        vertical-align: middle;\n",
       "    }\n",
       "\n",
       "    .dataframe tbody tr th {\n",
       "        vertical-align: top;\n",
       "    }\n",
       "\n",
       "    .dataframe thead th {\n",
       "        text-align: right;\n",
       "    }\n",
       "</style>\n",
       "<table border=\"1\" class=\"dataframe\">\n",
       "  <thead>\n",
       "    <tr style=\"text-align: right;\">\n",
       "      <th></th>\n",
       "      <th>fare_amount</th>\n",
       "      <th>passenger_count</th>\n",
       "      <th>H_Distance</th>\n",
       "      <th>Year</th>\n",
       "      <th>Month</th>\n",
       "      <th>Date</th>\n",
       "      <th>Day of Week</th>\n",
       "      <th>Hour</th>\n",
       "    </tr>\n",
       "  </thead>\n",
       "  <tbody>\n",
       "    <tr>\n",
       "      <th>0</th>\n",
       "      <td>4.9</td>\n",
       "      <td>2</td>\n",
       "      <td>1.116850</td>\n",
       "      <td>2009</td>\n",
       "      <td>4</td>\n",
       "      <td>8</td>\n",
       "      <td>2</td>\n",
       "      <td>19</td>\n",
       "    </tr>\n",
       "    <tr>\n",
       "      <th>1</th>\n",
       "      <td>4.9</td>\n",
       "      <td>2</td>\n",
       "      <td>1.055053</td>\n",
       "      <td>2012</td>\n",
       "      <td>7</td>\n",
       "      <td>30</td>\n",
       "      <td>0</td>\n",
       "      <td>16</td>\n",
       "    </tr>\n",
       "    <tr>\n",
       "      <th>2</th>\n",
       "      <td>6.9</td>\n",
       "      <td>1</td>\n",
       "      <td>2.715959</td>\n",
       "      <td>2011</td>\n",
       "      <td>2</td>\n",
       "      <td>22</td>\n",
       "      <td>1</td>\n",
       "      <td>13</td>\n",
       "    </tr>\n",
       "    <tr>\n",
       "      <th>3</th>\n",
       "      <td>14.1</td>\n",
       "      <td>1</td>\n",
       "      <td>5.101370</td>\n",
       "      <td>2010</td>\n",
       "      <td>10</td>\n",
       "      <td>7</td>\n",
       "      <td>3</td>\n",
       "      <td>21</td>\n",
       "    </tr>\n",
       "    <tr>\n",
       "      <th>4</th>\n",
       "      <td>12.1</td>\n",
       "      <td>5</td>\n",
       "      <td>4.800593</td>\n",
       "      <td>2009</td>\n",
       "      <td>10</td>\n",
       "      <td>2</td>\n",
       "      <td>4</td>\n",
       "      <td>22</td>\n",
       "    </tr>\n",
       "    <tr>\n",
       "      <th>...</th>\n",
       "      <td>...</td>\n",
       "      <td>...</td>\n",
       "      <td>...</td>\n",
       "      <td>...</td>\n",
       "      <td>...</td>\n",
       "      <td>...</td>\n",
       "      <td>...</td>\n",
       "      <td>...</td>\n",
       "    </tr>\n",
       "    <tr>\n",
       "      <th>99995</th>\n",
       "      <td>4.5</td>\n",
       "      <td>1</td>\n",
       "      <td>1.198577</td>\n",
       "      <td>2015</td>\n",
       "      <td>6</td>\n",
       "      <td>8</td>\n",
       "      <td>0</td>\n",
       "      <td>7</td>\n",
       "    </tr>\n",
       "    <tr>\n",
       "      <th>99996</th>\n",
       "      <td>25.5</td>\n",
       "      <td>1</td>\n",
       "      <td>8.073564</td>\n",
       "      <td>2012</td>\n",
       "      <td>9</td>\n",
       "      <td>17</td>\n",
       "      <td>0</td>\n",
       "      <td>15</td>\n",
       "    </tr>\n",
       "    <tr>\n",
       "      <th>99997</th>\n",
       "      <td>14.5</td>\n",
       "      <td>1</td>\n",
       "      <td>2.808335</td>\n",
       "      <td>2013</td>\n",
       "      <td>2</td>\n",
       "      <td>2</td>\n",
       "      <td>5</td>\n",
       "      <td>19</td>\n",
       "    </tr>\n",
       "    <tr>\n",
       "      <th>99998</th>\n",
       "      <td>9.0</td>\n",
       "      <td>1</td>\n",
       "      <td>2.076158</td>\n",
       "      <td>2013</td>\n",
       "      <td>12</td>\n",
       "      <td>28</td>\n",
       "      <td>5</td>\n",
       "      <td>15</td>\n",
       "    </tr>\n",
       "    <tr>\n",
       "      <th>99999</th>\n",
       "      <td>15.0</td>\n",
       "      <td>1</td>\n",
       "      <td>2.821245</td>\n",
       "      <td>2014</td>\n",
       "      <td>4</td>\n",
       "      <td>26</td>\n",
       "      <td>5</td>\n",
       "      <td>19</td>\n",
       "    </tr>\n",
       "  </tbody>\n",
       "</table>\n",
       "<p>99992 rows × 8 columns</p>\n",
       "</div>"
      ],
      "text/plain": [
       "       fare_amount  passenger_count  H_Distance  Year  Month  Date  \\\n",
       "0              4.9                2    1.116850  2009      4     8   \n",
       "1              4.9                2    1.055053  2012      7    30   \n",
       "2              6.9                1    2.715959  2011      2    22   \n",
       "3             14.1                1    5.101370  2010     10     7   \n",
       "4             12.1                5    4.800593  2009     10     2   \n",
       "...            ...              ...         ...   ...    ...   ...   \n",
       "99995          4.5                1    1.198577  2015      6     8   \n",
       "99996         25.5                1    8.073564  2012      9    17   \n",
       "99997         14.5                1    2.808335  2013      2     2   \n",
       "99998          9.0                1    2.076158  2013     12    28   \n",
       "99999         15.0                1    2.821245  2014      4    26   \n",
       "\n",
       "       Day of Week  Hour  \n",
       "0                2    19  \n",
       "1                0    16  \n",
       "2                1    13  \n",
       "3                3    21  \n",
       "4                4    22  \n",
       "...            ...   ...  \n",
       "99995            0     7  \n",
       "99996            0    15  \n",
       "99997            5    19  \n",
       "99998            5    15  \n",
       "99999            5    19  \n",
       "\n",
       "[99992 rows x 8 columns]"
      ]
     },
     "execution_count": 29,
     "metadata": {},
     "output_type": "execute_result"
    }
   ],
   "source": [
    "train"
   ]
  },
  {
   "cell_type": "code",
   "execution_count": 30,
   "id": "689a07f9",
   "metadata": {},
   "outputs": [],
   "source": [
    "def aa(df,col,a):\n",
    "    iqr = df[col].quantile(0.75) - df[col].quantile(0.25) \n",
    "    up_b = df[col].quantile(0.75) + (a*iqr)\n",
    "    lo_b = df[col].quantile(0.75) - (a*iqr)\n",
    "    df = df[(df[col] < up_b) & (df[col] > lo_b)]\n",
    "    return df"
   ]
  },
  {
   "cell_type": "code",
   "execution_count": 31,
   "id": "27a4b87e",
   "metadata": {},
   "outputs": [],
   "source": [
    "train = aa(train, 'H_Distance',4.5)"
   ]
  },
  {
   "cell_type": "code",
   "execution_count": 32,
   "id": "2708ceb9",
   "metadata": {},
   "outputs": [],
   "source": [
    "train = aa(train,'fare_amount',4.5)"
   ]
  },
  {
   "cell_type": "code",
   "execution_count": 33,
   "id": "a082a638",
   "metadata": {},
   "outputs": [],
   "source": [
    "train = aa(train,'passenger_count',2.5)"
   ]
  },
  {
   "cell_type": "code",
   "execution_count": 34,
   "id": "b9e254fd",
   "metadata": {},
   "outputs": [
    {
     "data": {
      "text/plain": [
       "(87835, 8)"
      ]
     },
     "execution_count": 34,
     "metadata": {},
     "output_type": "execute_result"
    }
   ],
   "source": [
    "train.shape"
   ]
  },
  {
   "cell_type": "code",
   "execution_count": 35,
   "id": "5791d2a5",
   "metadata": {},
   "outputs": [
    {
     "data": {
      "text/plain": [
       "<AxesSubplot:>"
      ]
     },
     "execution_count": 35,
     "metadata": {},
     "output_type": "execute_result"
    },
    {
     "data": {
      "image/png": "[encoded data removed]",
      "text/plain": [
       "<Figure size 432x288 with 1 Axes>"
      ]
     },
     "metadata": {
      "needs_background": "light"
     },
     "output_type": "display_data"
    }
   ],
   "source": [
    "train['H_Distance'].hist(bins=50)"
   ]
  },
  {
   "cell_type": "code",
   "execution_count": 36,
   "id": "65e65c3c",
   "metadata": {},
   "outputs": [
    {
     "data": {
      "text/plain": [
       "<AxesSubplot:>"
      ]
     },
     "execution_count": 36,
     "metadata": {},
     "output_type": "execute_result"
    },
    {
     "data": {
      "image/png": "[encoded data removed]",
      "text/plain": [
       "<Figure size 432x288 with 1 Axes>"
      ]
     },
     "metadata": {
      "needs_background": "light"
     },
     "output_type": "display_data"
    }
   ],
   "source": [
    "train['fare_amount'].hist(bins=50)"
   ]
  },
  {
   "cell_type": "code",
   "execution_count": 37,
   "id": "0367c10d",
   "metadata": {},
   "outputs": [
    {
     "name": "stderr",
     "output_type": "stream",
     "text": [
      "/opt/anaconda3/envs/machine/lib/python3.6/site-packages/seaborn/distributions.py:2619: FutureWarning: `distplot` is a deprecated function and will be removed in a future version. Please adapt your code to use either `displot` (a figure-level function with similar flexibility) or `histplot` (an axes-level function for histograms).\n",
      "  warnings.warn(msg, FutureWarning)\n"
     ]
    },
    {
     "data": {
      "text/plain": [
       "<AxesSubplot:xlabel='fare_amount', ylabel='Density'>"
      ]
     },
     "execution_count": 37,
     "metadata": {},
     "output_type": "execute_result"
    },
    {
     "data": {
      "image/png": "[encoded data removed]",
      "text/plain": [
       "<Figure size 432x288 with 1 Axes>"
      ]
     },
     "metadata": {
      "needs_background": "light"
     },
     "output_type": "display_data"
    }
   ],
   "source": [
    "## Exploratory Data Analysis\n",
    "import seaborn as sns\n",
    "sns.distplot(train['fare_amount'],bins=100)"
   ]
  },
  {
   "cell_type": "code",
   "execution_count": 38,
   "id": "0657a3d4",
   "metadata": {},
   "outputs": [
    {
     "name": "stderr",
     "output_type": "stream",
     "text": [
      "/opt/anaconda3/envs/machine/lib/python3.6/site-packages/seaborn/distributions.py:2619: FutureWarning: `distplot` is a deprecated function and will be removed in a future version. Please adapt your code to use either `displot` (a figure-level function with similar flexibility) or `histplot` (an axes-level function for histograms).\n",
      "  warnings.warn(msg, FutureWarning)\n"
     ]
    },
    {
     "data": {
      "text/plain": [
       "<AxesSubplot:xlabel='H_Distance', ylabel='Density'>"
      ]
     },
     "execution_count": 38,
     "metadata": {},
     "output_type": "execute_result"
    },
    {
     "data": {
      "image/png": "[encoded data removed]",
      "text/plain": [
       "<Figure size 432x288 with 1 Axes>"
      ]
     },
     "metadata": {
      "needs_background": "light"
     },
     "output_type": "display_data"
    }
   ],
   "source": [
    "sns.distplot(train['H_Distance'],bins=50) "
   ]
  },
  {
   "cell_type": "code",
   "execution_count": 39,
   "id": "f7aa9260",
   "metadata": {},
   "outputs": [
    {
     "name": "stderr",
     "output_type": "stream",
     "text": [
      "/opt/anaconda3/envs/machine/lib/python3.6/site-packages/seaborn/_decorators.py:43: FutureWarning: Pass the following variable as a keyword arg: x. From version 0.12, the only valid positional argument will be `data`, and passing other arguments without an explicit keyword will result in an error or misinterpretation.\n",
      "  FutureWarning\n"
     ]
    },
    {
     "data": {
      "text/plain": [
       "<AxesSubplot:xlabel='passenger_count', ylabel='count'>"
      ]
     },
     "execution_count": 39,
     "metadata": {},
     "output_type": "execute_result"
    },
    {
     "data": {
      "image/png": "[encoded data removed]",
      "text/plain": [
       "<Figure size 432x288 with 1 Axes>"
      ]
     },
     "metadata": {
      "needs_background": "light"
     },
     "output_type": "display_data"
    }
   ],
   "source": [
    "sns.countplot(train['passenger_count'])"
   ]
  },
  {
   "cell_type": "code",
   "execution_count": 40,
   "id": "9486fb60",
   "metadata": {},
   "outputs": [
    {
     "name": "stderr",
     "output_type": "stream",
     "text": [
      "/opt/anaconda3/envs/machine/lib/python3.6/site-packages/seaborn/_decorators.py:43: FutureWarning: Pass the following variable as a keyword arg: x. From version 0.12, the only valid positional argument will be `data`, and passing other arguments without an explicit keyword will result in an error or misinterpretation.\n",
      "  FutureWarning\n"
     ]
    },
    {
     "data": {
      "text/plain": [
       "<AxesSubplot:xlabel='Year', ylabel='count'>"
      ]
     },
     "execution_count": 40,
     "metadata": {},
     "output_type": "execute_result"
    },
    {
     "data": {
      "image/png": "[encoded data removed]",
      "text/plain": [
       "<Figure size 432x288 with 1 Axes>"
      ]
     },
     "metadata": {
      "needs_background": "light"
     },
     "output_type": "display_data"
    }
   ],
   "source": [
    "sns.countplot(train['Year'])"
   ]
  },
  {
   "cell_type": "code",
   "execution_count": 41,
   "id": "95aab522",
   "metadata": {},
   "outputs": [
    {
     "name": "stderr",
     "output_type": "stream",
     "text": [
      "/opt/anaconda3/envs/machine/lib/python3.6/site-packages/seaborn/_decorators.py:43: FutureWarning: Pass the following variable as a keyword arg: x. From version 0.12, the only valid positional argument will be `data`, and passing other arguments without an explicit keyword will result in an error or misinterpretation.\n",
      "  FutureWarning\n"
     ]
    },
    {
     "data": {
      "text/plain": [
       "<AxesSubplot:xlabel='Month', ylabel='count'>"
      ]
     },
     "execution_count": 41,
     "metadata": {},
     "output_type": "execute_result"
    },
    {
     "data": {
      "image/png": "[encoded data removed]",
      "text/plain": [
       "<Figure size 432x288 with 1 Axes>"
      ]
     },
     "metadata": {
      "needs_background": "light"
     },
     "output_type": "display_data"
    }
   ],
   "source": [
    "sns.countplot(train['Month'])"
   ]
  },
  {
   "cell_type": "code",
   "execution_count": 42,
   "id": "95766a96",
   "metadata": {},
   "outputs": [
    {
     "name": "stderr",
     "output_type": "stream",
     "text": [
      "/opt/anaconda3/envs/machine/lib/python3.6/site-packages/seaborn/_decorators.py:43: FutureWarning: Pass the following variable as a keyword arg: x. From version 0.12, the only valid positional argument will be `data`, and passing other arguments without an explicit keyword will result in an error or misinterpretation.\n",
      "  FutureWarning\n"
     ]
    },
    {
     "data": {
      "text/plain": [
       "<AxesSubplot:xlabel='Date', ylabel='count'>"
      ]
     },
     "execution_count": 42,
     "metadata": {},
     "output_type": "execute_result"
    },
    {
     "data": {
      "image/png": "[encoded data removed]",
      "text/plain": [
       "<Figure size 432x288 with 1 Axes>"
      ]
     },
     "metadata": {
      "needs_background": "light"
     },
     "output_type": "display_data"
    }
   ],
   "source": [
    "sns.countplot(train['Date'])"
   ]
  },
  {
   "cell_type": "code",
   "execution_count": 43,
   "id": "6a077bcf",
   "metadata": {},
   "outputs": [
    {
     "name": "stderr",
     "output_type": "stream",
     "text": [
      "/opt/anaconda3/envs/machine/lib/python3.6/site-packages/seaborn/_decorators.py:43: FutureWarning: Pass the following variable as a keyword arg: x. From version 0.12, the only valid positional argument will be `data`, and passing other arguments without an explicit keyword will result in an error or misinterpretation.\n",
      "  FutureWarning\n"
     ]
    },
    {
     "data": {
      "text/plain": [
       "<AxesSubplot:xlabel='Day of Week', ylabel='count'>"
      ]
     },
     "execution_count": 43,
     "metadata": {},
     "output_type": "execute_result"
    },
    {
     "data": {
      "image/png": "[encoded data removed]",
      "text/plain": [
       "<Figure size 432x288 with 1 Axes>"
      ]
     },
     "metadata": {
      "needs_background": "light"
     },
     "output_type": "display_data"
    }
   ],
   "source": [
    "sns.countplot(train['Day of Week'])"
   ]
  },
  {
   "cell_type": "code",
   "execution_count": 44,
   "id": "665e60a0",
   "metadata": {},
   "outputs": [
    {
     "data": {
      "text/plain": [
       "<AxesSubplot:xlabel='Year', ylabel='fare_amount'>"
      ]
     },
     "execution_count": 44,
     "metadata": {},
     "output_type": "execute_result"
    },
    {
     "data": {
      "image/png": "[encoded data removed]",
      "text/plain": [
       "<Figure size 1440x720 with 1 Axes>"
      ]
     },
     "metadata": {
      "needs_background": "light"
     },
     "output_type": "display_data"
    }
   ],
   "source": [
    "## Bivariate\n",
    "fig, ax = plt.subplots(figsize=(20,10))\n",
    "\n",
    "sns.barplot(data=train,x='Year',y='fare_amount',ax=ax)"
   ]
  },
  {
   "cell_type": "code",
   "execution_count": 45,
   "id": "ad2abbb3",
   "metadata": {},
   "outputs": [
    {
     "data": {
      "text/plain": [
       "Index(['fare_amount', 'passenger_count', 'H_Distance', 'Year', 'Month', 'Date',\n",
       "       'Day of Week', 'Hour'],\n",
       "      dtype='object')"
      ]
     },
     "execution_count": 45,
     "metadata": {},
     "output_type": "execute_result"
    }
   ],
   "source": [
    "train.columns"
   ]
  },
  {
   "cell_type": "code",
   "execution_count": 46,
   "id": "efde9a54",
   "metadata": {},
   "outputs": [
    {
     "data": {
      "text/plain": [
       "<AxesSubplot:xlabel='Year', ylabel='fare_amount'>"
      ]
     },
     "execution_count": 46,
     "metadata": {},
     "output_type": "execute_result"
    },
    {
     "data": {
      "image/png": "[encoded data removed]",
      "text/plain": [
       "<Figure size 1440x720 with 1 Axes>"
      ]
     },
     "metadata": {
      "needs_background": "light"
     },
     "output_type": "display_data"
    }
   ],
   "source": [
    "fig, ax = plt.subplots(figsize=(20,10))\n",
    "\n",
    "sns.barplot(data=train,x='Year',y='fare_amount',ax=ax)"
   ]
  },
  {
   "cell_type": "code",
   "execution_count": null,
   "id": "554f0b32",
   "metadata": {},
   "outputs": [],
   "source": []
  },
  {
   "cell_type": "code",
   "execution_count": 47,
   "id": "42bcaf02",
   "metadata": {},
   "outputs": [
    {
     "data": {
      "text/plain": [
       "<AxesSubplot:xlabel='Month', ylabel='fare_amount'>"
      ]
     },
     "execution_count": 47,
     "metadata": {},
     "output_type": "execute_result"
    },
    {
     "data": {
      "image/png": "[encoded data removed]",
      "text/plain": [
       "<Figure size 1440x720 with 1 Axes>"
      ]
     },
     "metadata": {
      "needs_background": "light"
     },
     "output_type": "display_data"
    }
   ],
   "source": [
    "fig, ax = plt.subplots(figsize=(20,10))\n",
    "a = train[train['Year']=='2012']\n",
    "sns.barplot(data=a,x='Month',y='fare_amount',ax=ax)"
   ]
  },
  {
   "cell_type": "code",
   "execution_count": 48,
   "id": "f1f0f502",
   "metadata": {},
   "outputs": [
    {
     "data": {
      "text/plain": [
       "<AxesSubplot:xlabel='Day of Week', ylabel='fare_amount'>"
      ]
     },
     "execution_count": 48,
     "metadata": {},
     "output_type": "execute_result"
    },
    {
     "data": {
      "image/png": "[encoded data removed]",
      "text/plain": [
       "<Figure size 720x720 with 1 Axes>"
      ]
     },
     "metadata": {
      "needs_background": "light"
     },
     "output_type": "display_data"
    }
   ],
   "source": [
    "fig, ax = plt.subplots(figsize=(10,10))\n",
    "a = train[train['Year']=='2015']\n",
    "sns.barplot(data=a ,x='Day of Week',y='fare_amount',ax=ax)"
   ]
  },
  {
   "cell_type": "code",
   "execution_count": 49,
   "id": "92a34706",
   "metadata": {},
   "outputs": [
    {
     "data": {
      "text/plain": [
       "<AxesSubplot:xlabel='Hour', ylabel='fare_amount'>"
      ]
     },
     "execution_count": 49,
     "metadata": {},
     "output_type": "execute_result"
    },
    {
     "data": {
      "image/png": "[encoded data removed]",
      "text/plain": [
       "<Figure size 1080x720 with 1 Axes>"
      ]
     },
     "metadata": {
      "needs_background": "light"
     },
     "output_type": "display_data"
    }
   ],
   "source": [
    "fig, ax = plt.subplots(figsize=(15,10))\n",
    "a = train[train['Year']=='2009']\n",
    "sns.barplot(data=a ,x='Hour',y='fare_amount',ax=ax)"
   ]
  },
  {
   "cell_type": "code",
   "execution_count": null,
   "id": "c11184cb",
   "metadata": {},
   "outputs": [],
   "source": []
  },
  {
   "cell_type": "code",
   "execution_count": 50,
   "id": "b67b9ea8",
   "metadata": {},
   "outputs": [
    {
     "data": {
      "text/plain": [
       "<AxesSubplot:xlabel='Hour', ylabel='fare_amount'>"
      ]
     },
     "execution_count": 50,
     "metadata": {},
     "output_type": "execute_result"
    },
    {
     "data": {
      "image/png": "[encoded data removed]",
      "text/plain": [
       "<Figure size 1440x720 with 1 Axes>"
      ]
     },
     "metadata": {
      "needs_background": "light"
     },
     "output_type": "display_data"
    }
   ],
   "source": [
    "fig, ax = plt.subplots(figsize=(20,10))\n",
    "sns.pointplot(data=train, x='Hour', y='fare_amount',hue='Day of Week', ax=ax)"
   ]
  },
  {
   "cell_type": "code",
   "execution_count": 51,
   "id": "3e926b6f",
   "metadata": {
    "scrolled": true
   },
   "outputs": [
    {
     "data": {
      "text/plain": [
       "['Year']"
      ]
     },
     "execution_count": 51,
     "metadata": {},
     "output_type": "execute_result"
    }
   ],
   "source": [
    "cat_col"
   ]
  },
  {
   "cell_type": "code",
   "execution_count": 52,
   "id": "913cb0e7",
   "metadata": {},
   "outputs": [],
   "source": [
    "## one hot encoidng\n",
    "train = pd.get_dummies(train ,columns=cat_col)\n"
   ]
  },
  {
   "cell_type": "code",
   "execution_count": 53,
   "id": "958eb188",
   "metadata": {},
   "outputs": [],
   "source": [
    "testt = pd.get_dummies(testt ,columns=cat_col)"
   ]
  },
  {
   "cell_type": "code",
   "execution_count": 54,
   "id": "0083dde9",
   "metadata": {},
   "outputs": [
    {
     "data": {
      "text/html": [
       "<div>\n",
       "<style scoped>\n",
       "    .dataframe tbody tr th:only-of-type {\n",
       "        vertical-align: middle;\n",
       "    }\n",
       "\n",
       "    .dataframe tbody tr th {\n",
       "        vertical-align: top;\n",
       "    }\n",
       "\n",
       "    .dataframe thead th {\n",
       "        text-align: right;\n",
       "    }\n",
       "</style>\n",
       "<table border=\"1\" class=\"dataframe\">\n",
       "  <thead>\n",
       "    <tr style=\"text-align: right;\">\n",
       "      <th></th>\n",
       "      <th>fare_amount</th>\n",
       "      <th>passenger_count</th>\n",
       "      <th>H_Distance</th>\n",
       "      <th>Month</th>\n",
       "      <th>Date</th>\n",
       "      <th>Day of Week</th>\n",
       "      <th>Hour</th>\n",
       "      <th>Year_2009</th>\n",
       "      <th>Year_2010</th>\n",
       "      <th>Year_2011</th>\n",
       "      <th>Year_2012</th>\n",
       "      <th>Year_2013</th>\n",
       "      <th>Year_2014</th>\n",
       "      <th>Year_2015</th>\n",
       "    </tr>\n",
       "  </thead>\n",
       "  <tbody>\n",
       "    <tr>\n",
       "      <th>0</th>\n",
       "      <td>4.9</td>\n",
       "      <td>2</td>\n",
       "      <td>1.116850</td>\n",
       "      <td>4</td>\n",
       "      <td>8</td>\n",
       "      <td>2</td>\n",
       "      <td>19</td>\n",
       "      <td>1</td>\n",
       "      <td>0</td>\n",
       "      <td>0</td>\n",
       "      <td>0</td>\n",
       "      <td>0</td>\n",
       "      <td>0</td>\n",
       "      <td>0</td>\n",
       "    </tr>\n",
       "    <tr>\n",
       "      <th>1</th>\n",
       "      <td>4.9</td>\n",
       "      <td>2</td>\n",
       "      <td>1.055053</td>\n",
       "      <td>7</td>\n",
       "      <td>30</td>\n",
       "      <td>0</td>\n",
       "      <td>16</td>\n",
       "      <td>0</td>\n",
       "      <td>0</td>\n",
       "      <td>0</td>\n",
       "      <td>1</td>\n",
       "      <td>0</td>\n",
       "      <td>0</td>\n",
       "      <td>0</td>\n",
       "    </tr>\n",
       "    <tr>\n",
       "      <th>2</th>\n",
       "      <td>6.9</td>\n",
       "      <td>1</td>\n",
       "      <td>2.715959</td>\n",
       "      <td>2</td>\n",
       "      <td>22</td>\n",
       "      <td>1</td>\n",
       "      <td>13</td>\n",
       "      <td>0</td>\n",
       "      <td>0</td>\n",
       "      <td>1</td>\n",
       "      <td>0</td>\n",
       "      <td>0</td>\n",
       "      <td>0</td>\n",
       "      <td>0</td>\n",
       "    </tr>\n",
       "    <tr>\n",
       "      <th>3</th>\n",
       "      <td>14.1</td>\n",
       "      <td>1</td>\n",
       "      <td>5.101370</td>\n",
       "      <td>10</td>\n",
       "      <td>7</td>\n",
       "      <td>3</td>\n",
       "      <td>21</td>\n",
       "      <td>0</td>\n",
       "      <td>1</td>\n",
       "      <td>0</td>\n",
       "      <td>0</td>\n",
       "      <td>0</td>\n",
       "      <td>0</td>\n",
       "      <td>0</td>\n",
       "    </tr>\n",
       "    <tr>\n",
       "      <th>5</th>\n",
       "      <td>21.3</td>\n",
       "      <td>1</td>\n",
       "      <td>7.088301</td>\n",
       "      <td>10</td>\n",
       "      <td>7</td>\n",
       "      <td>2</td>\n",
       "      <td>8</td>\n",
       "      <td>1</td>\n",
       "      <td>0</td>\n",
       "      <td>0</td>\n",
       "      <td>0</td>\n",
       "      <td>0</td>\n",
       "      <td>0</td>\n",
       "      <td>0</td>\n",
       "    </tr>\n",
       "  </tbody>\n",
       "</table>\n",
       "</div>"
      ],
      "text/plain": [
       "   fare_amount  passenger_count  H_Distance  Month  Date  Day of Week  Hour  \\\n",
       "0          4.9                2    1.116850      4     8            2    19   \n",
       "1          4.9                2    1.055053      7    30            0    16   \n",
       "2          6.9                1    2.715959      2    22            1    13   \n",
       "3         14.1                1    5.101370     10     7            3    21   \n",
       "5         21.3                1    7.088301     10     7            2     8   \n",
       "\n",
       "   Year_2009  Year_2010  Year_2011  Year_2012  Year_2013  Year_2014  Year_2015  \n",
       "0          1          0          0          0          0          0          0  \n",
       "1          0          0          0          1          0          0          0  \n",
       "2          0          0          1          0          0          0          0  \n",
       "3          0          1          0          0          0          0          0  \n",
       "5          1          0          0          0          0          0          0  "
      ]
     },
     "execution_count": 54,
     "metadata": {},
     "output_type": "execute_result"
    }
   ],
   "source": [
    "train.head()"
   ]
  },
  {
   "cell_type": "code",
   "execution_count": 55,
   "id": "1601245e",
   "metadata": {},
   "outputs": [
    {
     "data": {
      "text/html": [
       "<div>\n",
       "<style scoped>\n",
       "    .dataframe tbody tr th:only-of-type {\n",
       "        vertical-align: middle;\n",
       "    }\n",
       "\n",
       "    .dataframe tbody tr th {\n",
       "        vertical-align: top;\n",
       "    }\n",
       "\n",
       "    .dataframe thead th {\n",
       "        text-align: right;\n",
       "    }\n",
       "</style>\n",
       "<table border=\"1\" class=\"dataframe\">\n",
       "  <thead>\n",
       "    <tr style=\"text-align: right;\">\n",
       "      <th></th>\n",
       "      <th>passenger_count</th>\n",
       "      <th>H_Distance</th>\n",
       "      <th>Month</th>\n",
       "      <th>Date</th>\n",
       "      <th>Day of Week</th>\n",
       "      <th>Hour</th>\n",
       "      <th>Year_2009</th>\n",
       "      <th>Year_2010</th>\n",
       "      <th>Year_2011</th>\n",
       "      <th>Year_2012</th>\n",
       "      <th>Year_2013</th>\n",
       "      <th>Year_2014</th>\n",
       "      <th>Year_2015</th>\n",
       "    </tr>\n",
       "  </thead>\n",
       "  <tbody>\n",
       "    <tr>\n",
       "      <th>0</th>\n",
       "      <td>1</td>\n",
       "      <td>2.323260</td>\n",
       "      <td>1</td>\n",
       "      <td>27</td>\n",
       "      <td>1</td>\n",
       "      <td>13</td>\n",
       "      <td>0</td>\n",
       "      <td>0</td>\n",
       "      <td>0</td>\n",
       "      <td>0</td>\n",
       "      <td>0</td>\n",
       "      <td>0</td>\n",
       "      <td>1</td>\n",
       "    </tr>\n",
       "    <tr>\n",
       "      <th>1</th>\n",
       "      <td>1</td>\n",
       "      <td>2.425353</td>\n",
       "      <td>1</td>\n",
       "      <td>27</td>\n",
       "      <td>1</td>\n",
       "      <td>13</td>\n",
       "      <td>0</td>\n",
       "      <td>0</td>\n",
       "      <td>0</td>\n",
       "      <td>0</td>\n",
       "      <td>0</td>\n",
       "      <td>0</td>\n",
       "      <td>1</td>\n",
       "    </tr>\n",
       "    <tr>\n",
       "      <th>2</th>\n",
       "      <td>1</td>\n",
       "      <td>0.618628</td>\n",
       "      <td>10</td>\n",
       "      <td>8</td>\n",
       "      <td>5</td>\n",
       "      <td>11</td>\n",
       "      <td>0</td>\n",
       "      <td>0</td>\n",
       "      <td>1</td>\n",
       "      <td>0</td>\n",
       "      <td>0</td>\n",
       "      <td>0</td>\n",
       "      <td>0</td>\n",
       "    </tr>\n",
       "    <tr>\n",
       "      <th>3</th>\n",
       "      <td>1</td>\n",
       "      <td>1.961033</td>\n",
       "      <td>12</td>\n",
       "      <td>1</td>\n",
       "      <td>5</td>\n",
       "      <td>21</td>\n",
       "      <td>0</td>\n",
       "      <td>0</td>\n",
       "      <td>0</td>\n",
       "      <td>1</td>\n",
       "      <td>0</td>\n",
       "      <td>0</td>\n",
       "      <td>0</td>\n",
       "    </tr>\n",
       "    <tr>\n",
       "      <th>4</th>\n",
       "      <td>1</td>\n",
       "      <td>5.387301</td>\n",
       "      <td>12</td>\n",
       "      <td>1</td>\n",
       "      <td>5</td>\n",
       "      <td>21</td>\n",
       "      <td>0</td>\n",
       "      <td>0</td>\n",
       "      <td>0</td>\n",
       "      <td>1</td>\n",
       "      <td>0</td>\n",
       "      <td>0</td>\n",
       "      <td>0</td>\n",
       "    </tr>\n",
       "  </tbody>\n",
       "</table>\n",
       "</div>"
      ],
      "text/plain": [
       "   passenger_count  H_Distance  Month  Date  Day of Week  Hour  Year_2009  \\\n",
       "0                1    2.323260      1    27            1    13          0   \n",
       "1                1    2.425353      1    27            1    13          0   \n",
       "2                1    0.618628     10     8            5    11          0   \n",
       "3                1    1.961033     12     1            5    21          0   \n",
       "4                1    5.387301     12     1            5    21          0   \n",
       "\n",
       "   Year_2010  Year_2011  Year_2012  Year_2013  Year_2014  Year_2015  \n",
       "0          0          0          0          0          0          1  \n",
       "1          0          0          0          0          0          1  \n",
       "2          0          1          0          0          0          0  \n",
       "3          0          0          1          0          0          0  \n",
       "4          0          0          1          0          0          0  "
      ]
     },
     "execution_count": 55,
     "metadata": {},
     "output_type": "execute_result"
    }
   ],
   "source": [
    "testt.head()"
   ]
  },
  {
   "cell_type": "code",
   "execution_count": 56,
   "id": "fe0c9b0e",
   "metadata": {},
   "outputs": [],
   "source": [
    "x = train.drop('fare_amount',axis=1)\n",
    "y = train['fare_amount']"
   ]
  },
  {
   "cell_type": "code",
   "execution_count": 57,
   "id": "75062f79",
   "metadata": {},
   "outputs": [],
   "source": [
    "from sklearn.model_selection import train_test_split\n",
    "x_train, x_test, y_train, y_test = train_test_split(x, y, test_size=0.25, random_state=20)"
   ]
  },
  {
   "cell_type": "code",
   "execution_count": 58,
   "id": "e8ab6ce8",
   "metadata": {},
   "outputs": [],
   "source": [
    "## Pipeline\n",
    "pipeline = Pipeline([\n",
    "                     ('scaler',StandardScaler()),\n",
    "                     ('model',Lasso())\n",
    "])"
   ]
  },
  {
   "cell_type": "code",
   "execution_count": 59,
   "id": "829d7aad",
   "metadata": {},
   "outputs": [],
   "source": [
    "search = GridSearchCV(pipeline,\n",
    "                      {'model__alpha':np.arange(0.1,10,0.1)},\n",
    "                      cv = 5, scoring=\"neg_mean_squared_error\",verbose=3\n",
    "                      )"
   ]
  },
  {
   "cell_type": "code",
   "execution_count": 60,
   "id": "b26d2eca",
   "metadata": {
    "scrolled": true
   },
   "outputs": [
    {
     "name": "stdout",
     "output_type": "stream",
     "text": [
      "Fitting 5 folds for each of 99 candidates, totalling 495 fits\n",
      "[CV 1/5] END ................model__alpha=0.1;, score=-10.149 total time=   0.0s\n",
      "[CV 2/5] END ................model__alpha=0.1;, score=-10.511 total time=   0.0s\n",
      "[CV 3/5] END .................model__alpha=0.1;, score=-9.499 total time=   0.0s\n",
      "[CV 4/5] END ................model__alpha=0.1;, score=-10.340 total time=   0.0s\n",
      "[CV 5/5] END ................model__alpha=0.1;, score=-10.606 total time=   0.0s\n",
      "[CV 1/5] END ................model__alpha=0.2;, score=-10.356 total time=   0.0s\n",
      "[CV 2/5] END ................model__alpha=0.2;, score=-10.682 total time=   0.0s\n",
      "[CV 3/5] END .................model__alpha=0.2;, score=-9.695 total time=   0.0s\n",
      "[CV 4/5] END ................model__alpha=0.2;, score=-10.564 total time=   0.0s\n",
      "[CV 5/5] END ................model__alpha=0.2;, score=-10.814 total time=   0.0s\n",
      "[CV 1/5] END model__alpha=0.30000000000000004;, score=-10.624 total time=   0.0s\n",
      "[CV 2/5] END model__alpha=0.30000000000000004;, score=-10.915 total time=   0.0s\n",
      "[CV 3/5] END .model__alpha=0.30000000000000004;, score=-9.952 total time=   0.0s\n",
      "[CV 4/5] END model__alpha=0.30000000000000004;, score=-10.848 total time=   0.0s\n",
      "[CV 5/5] END model__alpha=0.30000000000000004;, score=-11.082 total time=   0.0s\n",
      "[CV 1/5] END ................model__alpha=0.4;, score=-10.941 total time=   0.0s\n",
      "[CV 2/5] END ................model__alpha=0.4;, score=-11.166 total time=   0.0s\n",
      "[CV 3/5] END ................model__alpha=0.4;, score=-10.236 total time=   0.0s\n",
      "[CV 4/5] END ................model__alpha=0.4;, score=-11.145 total time=   0.0s\n",
      "[CV 5/5] END ................model__alpha=0.4;, score=-11.387 total time=   0.0s\n",
      "[CV 1/5] END ................model__alpha=0.5;, score=-11.118 total time=   0.0s\n",
      "[CV 2/5] END ................model__alpha=0.5;, score=-11.328 total time=   0.0s\n",
      "[CV 3/5] END ................model__alpha=0.5;, score=-10.416 total time=   0.0s\n",
      "[CV 4/5] END ................model__alpha=0.5;, score=-11.327 total time=   0.0s\n",
      "[CV 5/5] END ................model__alpha=0.5;, score=-11.567 total time=   0.0s\n",
      "[CV 1/5] END ................model__alpha=0.6;, score=-11.238 total time=   0.0s\n",
      "[CV 2/5] END ................model__alpha=0.6;, score=-11.418 total time=   0.0s\n",
      "[CV 3/5] END ................model__alpha=0.6;, score=-10.528 total time=   0.0s\n",
      "[CV 4/5] END ................model__alpha=0.6;, score=-11.443 total time=   0.0s\n",
      "[CV 5/5] END ................model__alpha=0.6;, score=-11.681 total time=   0.0s\n",
      "[CV 1/5] END .model__alpha=0.7000000000000001;, score=-11.376 total time=   0.0s\n",
      "[CV 2/5] END .model__alpha=0.7000000000000001;, score=-11.528 total time=   0.0s\n",
      "[CV 3/5] END .model__alpha=0.7000000000000001;, score=-10.658 total time=   0.0s\n",
      "[CV 4/5] END .model__alpha=0.7000000000000001;, score=-11.580 total time=   0.0s\n",
      "[CV 5/5] END .model__alpha=0.7000000000000001;, score=-11.815 total time=   0.0s\n",
      "[CV 1/5] END ................model__alpha=0.8;, score=-11.534 total time=   0.0s\n",
      "[CV 2/5] END ................model__alpha=0.8;, score=-11.657 total time=   0.0s\n",
      "[CV 3/5] END ................model__alpha=0.8;, score=-10.809 total time=   0.0s\n",
      "[CV 4/5] END ................model__alpha=0.8;, score=-11.738 total time=   0.0s\n",
      "[CV 5/5] END ................model__alpha=0.8;, score=-11.969 total time=   0.0s\n",
      "[CV 1/5] END ................model__alpha=0.9;, score=-11.712 total time=   0.0s\n",
      "[CV 2/5] END ................model__alpha=0.9;, score=-11.806 total time=   0.0s\n",
      "[CV 3/5] END ................model__alpha=0.9;, score=-10.980 total time=   0.0s\n",
      "[CV 4/5] END ................model__alpha=0.9;, score=-11.917 total time=   0.0s\n",
      "[CV 5/5] END ................model__alpha=0.9;, score=-12.142 total time=   0.0s\n",
      "[CV 1/5] END ................model__alpha=1.0;, score=-11.908 total time=   0.0s\n",
      "[CV 2/5] END ................model__alpha=1.0;, score=-11.976 total time=   0.0s\n",
      "[CV 3/5] END ................model__alpha=1.0;, score=-11.170 total time=   0.0s\n",
      "[CV 4/5] END ................model__alpha=1.0;, score=-12.118 total time=   0.0s\n",
      "[CV 5/5] END ................model__alpha=1.0;, score=-12.336 total time=   0.0s\n",
      "[CV 1/5] END ................model__alpha=1.1;, score=-12.124 total time=   0.0s\n",
      "[CV 2/5] END ................model__alpha=1.1;, score=-12.165 total time=   0.0s\n",
      "[CV 3/5] END ................model__alpha=1.1;, score=-11.380 total time=   0.0s\n",
      "[CV 4/5] END ................model__alpha=1.1;, score=-12.339 total time=   0.0s\n",
      "[CV 5/5] END ................model__alpha=1.1;, score=-12.550 total time=   0.0s\n",
      "[CV 1/5] END .model__alpha=1.2000000000000002;, score=-12.359 total time=   0.0s\n",
      "[CV 2/5] END .model__alpha=1.2000000000000002;, score=-12.374 total time=   0.0s\n",
      "[CV 3/5] END .model__alpha=1.2000000000000002;, score=-11.610 total time=   0.0s\n",
      "[CV 4/5] END .model__alpha=1.2000000000000002;, score=-12.582 total time=   0.0s\n",
      "[CV 5/5] END .model__alpha=1.2000000000000002;, score=-12.783 total time=   0.0s\n",
      "[CV 1/5] END .model__alpha=1.3000000000000003;, score=-12.614 total time=   0.0s\n",
      "[CV 2/5] END .model__alpha=1.3000000000000003;, score=-12.603 total time=   0.0s\n",
      "[CV 3/5] END .model__alpha=1.3000000000000003;, score=-11.860 total time=   0.0s\n",
      "[CV 4/5] END .model__alpha=1.3000000000000003;, score=-12.846 total time=   0.0s\n",
      "[CV 5/5] END .model__alpha=1.3000000000000003;, score=-13.036 total time=   0.0s\n",
      "[CV 1/5] END .model__alpha=1.4000000000000001;, score=-12.887 total time=   0.0s\n",
      "[CV 2/5] END .model__alpha=1.4000000000000001;, score=-12.852 total time=   0.0s\n",
      "[CV 3/5] END .model__alpha=1.4000000000000001;, score=-12.130 total time=   0.0s\n",
      "[CV 4/5] END .model__alpha=1.4000000000000001;, score=-13.131 total time=   0.0s\n",
      "[CV 5/5] END .model__alpha=1.4000000000000001;, score=-13.310 total time=   0.0s\n",
      "[CV 1/5] END .model__alpha=1.5000000000000002;, score=-13.180 total time=   0.0s\n",
      "[CV 2/5] END .model__alpha=1.5000000000000002;, score=-13.121 total time=   0.0s\n",
      "[CV 3/5] END .model__alpha=1.5000000000000002;, score=-12.419 total time=   0.0s\n",
      "[CV 4/5] END .model__alpha=1.5000000000000002;, score=-13.437 total time=   0.0s\n",
      "[CV 5/5] END .model__alpha=1.5000000000000002;, score=-13.603 total time=   0.0s\n",
      "[CV 1/5] END ................model__alpha=1.6;, score=-13.492 total time=   0.0s\n",
      "[CV 2/5] END ................model__alpha=1.6;, score=-13.409 total time=   0.0s\n",
      "[CV 3/5] END ................model__alpha=1.6;, score=-12.728 total time=   0.0s\n",
      "[CV 4/5] END ................model__alpha=1.6;, score=-13.764 total time=   0.0s\n",
      "[CV 5/5] END ................model__alpha=1.6;, score=-13.916 total time=   0.0s\n",
      "[CV 1/5] END .model__alpha=1.7000000000000002;, score=-13.823 total time=   0.0s\n",
      "[CV 2/5] END .model__alpha=1.7000000000000002;, score=-13.718 total time=   0.0s\n",
      "[CV 3/5] END .model__alpha=1.7000000000000002;, score=-13.057 total time=   0.0s\n",
      "[CV 4/5] END .model__alpha=1.7000000000000002;, score=-14.112 total time=   0.0s\n",
      "[CV 5/5] END .model__alpha=1.7000000000000002;, score=-14.249 total time=   0.0s\n",
      "[CV 1/5] END .model__alpha=1.8000000000000003;, score=-14.174 total time=   0.0s\n",
      "[CV 2/5] END .model__alpha=1.8000000000000003;, score=-14.046 total time=   0.0s\n",
      "[CV 3/5] END .model__alpha=1.8000000000000003;, score=-13.406 total time=   0.0s\n",
      "[CV 4/5] END .model__alpha=1.8000000000000003;, score=-14.482 total time=   0.0s\n",
      "[CV 5/5] END .model__alpha=1.8000000000000003;, score=-14.602 total time=   0.0s\n",
      "[CV 1/5] END .model__alpha=1.9000000000000001;, score=-14.544 total time=   0.0s\n",
      "[CV 2/5] END .model__alpha=1.9000000000000001;, score=-14.395 total time=   0.0s\n",
      "[CV 3/5] END .model__alpha=1.9000000000000001;, score=-13.775 total time=   0.0s\n",
      "[CV 4/5] END .model__alpha=1.9000000000000001;, score=-14.872 total time=   0.0s\n",
      "[CV 5/5] END .model__alpha=1.9000000000000001;, score=-14.975 total time=   0.0s\n",
      "[CV 1/5] END ................model__alpha=2.0;, score=-14.933 total time=   0.0s\n",
      "[CV 2/5] END ................model__alpha=2.0;, score=-14.763 total time=   0.0s\n",
      "[CV 3/5] END ................model__alpha=2.0;, score=-14.163 total time=   0.0s\n",
      "[CV 4/5] END ................model__alpha=2.0;, score=-15.284 total time=   0.0s\n",
      "[CV 5/5] END ................model__alpha=2.0;, score=-15.368 total time=   0.0s\n",
      "[CV 1/5] END ................model__alpha=2.1;, score=-15.341 total time=   0.0s\n",
      "[CV 2/5] END ................model__alpha=2.1;, score=-15.151 total time=   0.0s\n"
     ]
    },
    {
     "name": "stdout",
     "output_type": "stream",
     "text": [
      "[CV 3/5] END ................model__alpha=2.1;, score=-14.571 total time=   0.0s\n",
      "[CV 4/5] END ................model__alpha=2.1;, score=-15.717 total time=   0.0s\n",
      "[CV 5/5] END ................model__alpha=2.1;, score=-15.781 total time=   0.0s\n",
      "[CV 1/5] END ................model__alpha=2.2;, score=-15.769 total time=   0.0s\n",
      "[CV 2/5] END ................model__alpha=2.2;, score=-15.560 total time=   0.0s\n",
      "[CV 3/5] END ................model__alpha=2.2;, score=-14.999 total time=   0.0s\n",
      "[CV 4/5] END ................model__alpha=2.2;, score=-16.171 total time=   0.0s\n",
      "[CV 5/5] END ................model__alpha=2.2;, score=-16.214 total time=   0.0s\n",
      "[CV 1/5] END .model__alpha=2.3000000000000003;, score=-16.216 total time=   0.0s\n",
      "[CV 2/5] END .model__alpha=2.3000000000000003;, score=-15.988 total time=   0.0s\n",
      "[CV 3/5] END .model__alpha=2.3000000000000003;, score=-15.447 total time=   0.0s\n",
      "[CV 4/5] END .model__alpha=2.3000000000000003;, score=-16.646 total time=   0.0s\n",
      "[CV 5/5] END .model__alpha=2.3000000000000003;, score=-16.666 total time=   0.0s\n",
      "[CV 1/5] END .model__alpha=2.4000000000000004;, score=-16.682 total time=   0.0s\n",
      "[CV 2/5] END .model__alpha=2.4000000000000004;, score=-16.436 total time=   0.0s\n",
      "[CV 3/5] END .model__alpha=2.4000000000000004;, score=-15.915 total time=   0.0s\n",
      "[CV 4/5] END .model__alpha=2.4000000000000004;, score=-17.142 total time=   0.0s\n",
      "[CV 5/5] END .model__alpha=2.4000000000000004;, score=-17.139 total time=   0.0s\n",
      "[CV 1/5] END .model__alpha=2.5000000000000004;, score=-17.167 total time=   0.0s\n",
      "[CV 2/5] END .model__alpha=2.5000000000000004;, score=-16.903 total time=   0.0s\n",
      "[CV 3/5] END .model__alpha=2.5000000000000004;, score=-16.402 total time=   0.0s\n",
      "[CV 4/5] END .model__alpha=2.5000000000000004;, score=-17.660 total time=   0.0s\n",
      "[CV 5/5] END .model__alpha=2.5000000000000004;, score=-17.631 total time=   0.0s\n",
      "[CV 1/5] END ................model__alpha=2.6;, score=-17.672 total time=   0.0s\n",
      "[CV 2/5] END ................model__alpha=2.6;, score=-17.391 total time=   0.0s\n",
      "[CV 3/5] END ................model__alpha=2.6;, score=-16.909 total time=   0.0s\n",
      "[CV 4/5] END ................model__alpha=2.6;, score=-18.198 total time=   0.0s\n",
      "[CV 5/5] END ................model__alpha=2.6;, score=-18.144 total time=   0.0s\n",
      "[CV 1/5] END ................model__alpha=2.7;, score=-18.196 total time=   0.0s\n",
      "[CV 2/5] END ................model__alpha=2.7;, score=-17.899 total time=   0.0s\n",
      "[CV 3/5] END ................model__alpha=2.7;, score=-17.436 total time=   0.0s\n",
      "[CV 4/5] END ................model__alpha=2.7;, score=-18.758 total time=   0.0s\n",
      "[CV 5/5] END ................model__alpha=2.7;, score=-18.676 total time=   0.0s\n",
      "[CV 1/5] END .model__alpha=2.8000000000000003;, score=-18.739 total time=   0.0s\n",
      "[CV 2/5] END .model__alpha=2.8000000000000003;, score=-18.426 total time=   0.0s\n",
      "[CV 3/5] END .model__alpha=2.8000000000000003;, score=-17.983 total time=   0.0s\n",
      "[CV 4/5] END .model__alpha=2.8000000000000003;, score=-19.339 total time=   0.0s\n",
      "[CV 5/5] END .model__alpha=2.8000000000000003;, score=-19.229 total time=   0.0s\n",
      "[CV 1/5] END .model__alpha=2.9000000000000004;, score=-19.302 total time=   0.0s\n",
      "[CV 2/5] END .model__alpha=2.9000000000000004;, score=-18.974 total time=   0.0s\n",
      "[CV 3/5] END .model__alpha=2.9000000000000004;, score=-18.550 total time=   0.0s\n",
      "[CV 4/5] END .model__alpha=2.9000000000000004;, score=-19.941 total time=   0.0s\n",
      "[CV 5/5] END .model__alpha=2.9000000000000004;, score=-19.801 total time=   0.0s\n",
      "[CV 1/5] END .model__alpha=3.0000000000000004;, score=-19.883 total time=   0.0s\n",
      "[CV 2/5] END .model__alpha=3.0000000000000004;, score=-19.541 total time=   0.0s\n",
      "[CV 3/5] END .model__alpha=3.0000000000000004;, score=-19.136 total time=   0.0s\n",
      "[CV 4/5] END .model__alpha=3.0000000000000004;, score=-20.564 total time=   0.0s\n",
      "[CV 5/5] END .model__alpha=3.0000000000000004;, score=-20.393 total time=   0.0s\n",
      "[CV 1/5] END ................model__alpha=3.1;, score=-20.484 total time=   0.0s\n",
      "[CV 2/5] END ................model__alpha=3.1;, score=-20.128 total time=   0.0s\n",
      "[CV 3/5] END ................model__alpha=3.1;, score=-19.742 total time=   0.0s\n",
      "[CV 4/5] END ................model__alpha=3.1;, score=-21.208 total time=   0.0s\n",
      "[CV 5/5] END ................model__alpha=3.1;, score=-21.005 total time=   0.0s\n",
      "[CV 1/5] END ................model__alpha=3.2;, score=-21.104 total time=   0.0s\n",
      "[CV 2/5] END ................model__alpha=3.2;, score=-20.736 total time=   0.0s\n",
      "[CV 3/5] END ................model__alpha=3.2;, score=-20.368 total time=   0.0s\n",
      "[CV 4/5] END ................model__alpha=3.2;, score=-21.874 total time=   0.0s\n",
      "[CV 5/5] END ................model__alpha=3.2;, score=-21.637 total time=   0.0s\n",
      "[CV 1/5] END .model__alpha=3.3000000000000003;, score=-21.744 total time=   0.0s\n",
      "[CV 2/5] END .model__alpha=3.3000000000000003;, score=-21.363 total time=   0.0s\n",
      "[CV 3/5] END .model__alpha=3.3000000000000003;, score=-21.014 total time=   0.0s\n",
      "[CV 4/5] END .model__alpha=3.3000000000000003;, score=-22.560 total time=   0.0s\n",
      "[CV 5/5] END .model__alpha=3.3000000000000003;, score=-22.289 total time=   0.0s\n",
      "[CV 1/5] END .model__alpha=3.4000000000000004;, score=-22.402 total time=   0.0s\n",
      "[CV 2/5] END .model__alpha=3.4000000000000004;, score=-22.010 total time=   0.0s\n",
      "[CV 3/5] END .model__alpha=3.4000000000000004;, score=-21.680 total time=   0.0s\n",
      "[CV 4/5] END .model__alpha=3.4000000000000004;, score=-23.268 total time=   0.0s\n",
      "[CV 5/5] END .model__alpha=3.4000000000000004;, score=-22.961 total time=   0.0s\n",
      "[CV 1/5] END .model__alpha=3.5000000000000004;, score=-23.080 total time=   0.0s\n",
      "[CV 2/5] END .model__alpha=3.5000000000000004;, score=-22.676 total time=   0.0s\n",
      "[CV 3/5] END .model__alpha=3.5000000000000004;, score=-22.365 total time=   0.0s\n",
      "[CV 4/5] END .model__alpha=3.5000000000000004;, score=-23.997 total time=   0.0s\n",
      "[CV 5/5] END .model__alpha=3.5000000000000004;, score=-23.653 total time=   0.0s\n",
      "[CV 1/5] END ................model__alpha=3.6;, score=-23.778 total time=   0.0s\n",
      "[CV 2/5] END ................model__alpha=3.6;, score=-23.363 total time=   0.0s\n",
      "[CV 3/5] END ................model__alpha=3.6;, score=-23.071 total time=   0.0s\n",
      "[CV 4/5] END ................model__alpha=3.6;, score=-24.747 total time=   0.0s\n",
      "[CV 5/5] END ................model__alpha=3.6;, score=-24.364 total time=   0.0s\n",
      "[CV 1/5] END ................model__alpha=3.7;, score=-24.494 total time=   0.0s\n",
      "[CV 2/5] END ................model__alpha=3.7;, score=-24.070 total time=   0.0s\n",
      "[CV 3/5] END ................model__alpha=3.7;, score=-23.796 total time=   0.0s\n",
      "[CV 4/5] END ................model__alpha=3.7;, score=-25.518 total time=   0.0s\n",
      "[CV 5/5] END ................model__alpha=3.7;, score=-25.096 total time=   0.0s\n",
      "[CV 1/5] END .model__alpha=3.8000000000000003;, score=-25.230 total time=   0.0s\n",
      "[CV 2/5] END .model__alpha=3.8000000000000003;, score=-24.797 total time=   0.0s\n",
      "[CV 3/5] END .model__alpha=3.8000000000000003;, score=-24.540 total time=   0.0s\n",
      "[CV 4/5] END .model__alpha=3.8000000000000003;, score=-26.310 total time=   0.0s\n",
      "[CV 5/5] END .model__alpha=3.8000000000000003;, score=-25.848 total time=   0.0s\n",
      "[CV 1/5] END .model__alpha=3.9000000000000004;, score=-25.985 total time=   0.0s\n",
      "[CV 2/5] END .model__alpha=3.9000000000000004;, score=-25.543 total time=   0.0s\n",
      "[CV 3/5] END .model__alpha=3.9000000000000004;, score=-25.305 total time=   0.0s\n",
      "[CV 4/5] END .model__alpha=3.9000000000000004;, score=-27.124 total time=   0.0s\n",
      "[CV 5/5] END .model__alpha=3.9000000000000004;, score=-26.619 total time=   0.0s\n",
      "[CV 1/5] END ................model__alpha=4.0;, score=-26.759 total time=   0.0s\n",
      "[CV 2/5] END ................model__alpha=4.0;, score=-26.309 total time=   0.0s\n",
      "[CV 3/5] END ................model__alpha=4.0;, score=-26.090 total time=   0.0s\n",
      "[CV 4/5] END ................model__alpha=4.0;, score=-27.958 total time=   0.0s\n",
      "[CV 5/5] END ................model__alpha=4.0;, score=-27.411 total time=   0.0s\n",
      "[CV 1/5] END ................model__alpha=4.1;, score=-27.553 total time=   0.0s\n",
      "[CV 2/5] END ................model__alpha=4.1;, score=-27.096 total time=   0.0s\n",
      "[CV 3/5] END ................model__alpha=4.1;, score=-26.894 total time=   0.0s\n",
      "[CV 4/5] END ................model__alpha=4.1;, score=-28.814 total time=   0.0s\n",
      "[CV 5/5] END ................model__alpha=4.1;, score=-28.222 total time=   0.0s\n",
      "[CV 1/5] END ................model__alpha=4.2;, score=-28.365 total time=   0.0s\n",
      "[CV 2/5] END ................model__alpha=4.2;, score=-27.902 total time=   0.0s\n",
      "[CV 3/5] END ................model__alpha=4.2;, score=-27.718 total time=   0.0s\n"
     ]
    },
    {
     "name": "stdout",
     "output_type": "stream",
     "text": [
      "[CV 4/5] END ................model__alpha=4.2;, score=-29.691 total time=   0.0s\n",
      "[CV 5/5] END ................model__alpha=4.2;, score=-29.053 total time=   0.0s\n",
      "[CV 1/5] END ................model__alpha=4.3;, score=-29.197 total time=   0.0s\n",
      "[CV 2/5] END ................model__alpha=4.3;, score=-28.728 total time=   0.0s\n",
      "[CV 3/5] END ................model__alpha=4.3;, score=-28.562 total time=   0.0s\n",
      "[CV 4/5] END ................model__alpha=4.3;, score=-30.589 total time=   0.0s\n",
      "[CV 5/5] END ................model__alpha=4.3;, score=-29.904 total time=   0.0s\n",
      "[CV 1/5] END .model__alpha=4.3999999999999995;, score=-30.049 total time=   0.0s\n",
      "[CV 2/5] END .model__alpha=4.3999999999999995;, score=-29.574 total time=   0.0s\n",
      "[CV 3/5] END .model__alpha=4.3999999999999995;, score=-29.425 total time=   0.0s\n",
      "[CV 4/5] END .model__alpha=4.3999999999999995;, score=-31.508 total time=   0.0s\n",
      "[CV 5/5] END .model__alpha=4.3999999999999995;, score=-30.776 total time=   0.0s\n",
      "[CV 1/5] END ................model__alpha=4.5;, score=-30.919 total time=   0.0s\n",
      "[CV 2/5] END ................model__alpha=4.5;, score=-30.440 total time=   0.0s\n",
      "[CV 3/5] END ................model__alpha=4.5;, score=-30.309 total time=   0.0s\n",
      "[CV 4/5] END ................model__alpha=4.5;, score=-32.448 total time=   0.0s\n",
      "[CV 5/5] END ................model__alpha=4.5;, score=-31.667 total time=   0.0s\n",
      "[CV 1/5] END ................model__alpha=4.6;, score=-31.809 total time=   0.0s\n",
      "[CV 2/5] END ................model__alpha=4.6;, score=-31.326 total time=   0.0s\n",
      "[CV 3/5] END ................model__alpha=4.6;, score=-31.212 total time=   0.0s\n",
      "[CV 4/5] END ................model__alpha=4.6;, score=-33.410 total time=   0.0s\n",
      "[CV 5/5] END ................model__alpha=4.6;, score=-32.578 total time=   0.0s\n",
      "[CV 1/5] END ................model__alpha=4.7;, score=-32.718 total time=   0.0s\n",
      "[CV 2/5] END ................model__alpha=4.7;, score=-32.232 total time=   0.0s\n",
      "[CV 3/5] END ................model__alpha=4.7;, score=-32.135 total time=   0.0s\n",
      "[CV 4/5] END ................model__alpha=4.7;, score=-34.392 total time=   0.0s\n",
      "[CV 5/5] END ................model__alpha=4.7;, score=-33.509 total time=   0.0s\n",
      "[CV 1/5] END ................model__alpha=4.8;, score=-33.646 total time=   0.0s\n",
      "[CV 2/5] END ................model__alpha=4.8;, score=-33.157 total time=   0.0s\n",
      "[CV 3/5] END ................model__alpha=4.8;, score=-33.078 total time=   0.0s\n",
      "[CV 4/5] END ................model__alpha=4.8;, score=-35.396 total time=   0.0s\n",
      "[CV 5/5] END ................model__alpha=4.8;, score=-34.459 total time=   0.0s\n",
      "[CV 1/5] END ................model__alpha=4.9;, score=-34.594 total time=   0.0s\n",
      "[CV 2/5] END ................model__alpha=4.9;, score=-34.103 total time=   0.0s\n",
      "[CV 3/5] END ................model__alpha=4.9;, score=-34.041 total time=   0.0s\n",
      "[CV 4/5] END ................model__alpha=4.9;, score=-36.421 total time=   0.0s\n",
      "[CV 5/5] END ................model__alpha=4.9;, score=-35.430 total time=   0.0s\n",
      "[CV 1/5] END ................model__alpha=5.0;, score=-35.560 total time=   0.0s\n",
      "[CV 2/5] END ................model__alpha=5.0;, score=-35.068 total time=   0.0s\n",
      "[CV 3/5] END ................model__alpha=5.0;, score=-35.023 total time=   0.0s\n",
      "[CV 4/5] END ................model__alpha=5.0;, score=-37.467 total time=   0.0s\n",
      "[CV 5/5] END ................model__alpha=5.0;, score=-36.421 total time=   0.0s\n",
      "[CV 1/5] END ................model__alpha=5.1;, score=-36.546 total time=   0.0s\n",
      "[CV 2/5] END ................model__alpha=5.1;, score=-36.053 total time=   0.0s\n",
      "[CV 3/5] END ................model__alpha=5.1;, score=-36.025 total time=   0.0s\n",
      "[CV 4/5] END ................model__alpha=5.1;, score=-38.534 total time=   0.0s\n",
      "[CV 5/5] END ................model__alpha=5.1;, score=-37.432 total time=   0.0s\n",
      "[CV 1/5] END ................model__alpha=5.2;, score=-37.552 total time=   0.0s\n",
      "[CV 2/5] END ................model__alpha=5.2;, score=-37.059 total time=   0.0s\n",
      "[CV 3/5] END ................model__alpha=5.2;, score=-37.047 total time=   0.0s\n",
      "[CV 4/5] END ................model__alpha=5.2;, score=-39.622 total time=   0.0s\n",
      "[CV 5/5] END ................model__alpha=5.2;, score=-38.462 total time=   0.0s\n",
      "[CV 1/5] END ................model__alpha=5.3;, score=-38.576 total time=   0.0s\n",
      "[CV 2/5] END ................model__alpha=5.3;, score=-38.084 total time=   0.0s\n",
      "[CV 3/5] END ................model__alpha=5.3;, score=-38.089 total time=   0.0s\n",
      "[CV 4/5] END ................model__alpha=5.3;, score=-40.443 total time=   0.0s\n",
      "[CV 5/5] END ................model__alpha=5.3;, score=-39.513 total time=   0.0s\n",
      "[CV 1/5] END ................model__alpha=5.4;, score=-38.678 total time=   0.0s\n",
      "[CV 2/5] END ................model__alpha=5.4;, score=-38.354 total time=   0.0s\n",
      "[CV 3/5] END ................model__alpha=5.4;, score=-38.160 total time=   0.0s\n",
      "[CV 4/5] END ................model__alpha=5.4;, score=-40.443 total time=   0.0s\n",
      "[CV 5/5] END ................model__alpha=5.4;, score=-39.527 total time=   0.0s\n",
      "[CV 1/5] END ................model__alpha=5.5;, score=-38.678 total time=   0.0s\n",
      "[CV 2/5] END ................model__alpha=5.5;, score=-38.354 total time=   0.0s\n",
      "[CV 3/5] END ................model__alpha=5.5;, score=-38.160 total time=   0.0s\n",
      "[CV 4/5] END ................model__alpha=5.5;, score=-40.443 total time=   0.0s\n",
      "[CV 5/5] END ................model__alpha=5.5;, score=-39.527 total time=   0.0s\n",
      "[CV 1/5] END ................model__alpha=5.6;, score=-38.678 total time=   0.0s\n",
      "[CV 2/5] END ................model__alpha=5.6;, score=-38.354 total time=   0.0s\n",
      "[CV 3/5] END ................model__alpha=5.6;, score=-38.160 total time=   0.0s\n",
      "[CV 4/5] END ................model__alpha=5.6;, score=-40.443 total time=   0.0s\n",
      "[CV 5/5] END ................model__alpha=5.6;, score=-39.527 total time=   0.0s\n",
      "[CV 1/5] END ................model__alpha=5.7;, score=-38.678 total time=   0.0s\n",
      "[CV 2/5] END ................model__alpha=5.7;, score=-38.354 total time=   0.0s\n",
      "[CV 3/5] END ................model__alpha=5.7;, score=-38.160 total time=   0.0s\n",
      "[CV 4/5] END ................model__alpha=5.7;, score=-40.443 total time=   0.0s\n",
      "[CV 5/5] END ................model__alpha=5.7;, score=-39.527 total time=   0.0s\n",
      "[CV 1/5] END ................model__alpha=5.8;, score=-38.678 total time=   0.0s\n",
      "[CV 2/5] END ................model__alpha=5.8;, score=-38.354 total time=   0.0s\n",
      "[CV 3/5] END ................model__alpha=5.8;, score=-38.160 total time=   0.0s\n",
      "[CV 4/5] END ................model__alpha=5.8;, score=-40.443 total time=   0.0s\n",
      "[CV 5/5] END ................model__alpha=5.8;, score=-39.527 total time=   0.0s\n",
      "[CV 1/5] END ................model__alpha=5.9;, score=-38.678 total time=   0.0s\n",
      "[CV 2/5] END ................model__alpha=5.9;, score=-38.354 total time=   0.0s\n",
      "[CV 3/5] END ................model__alpha=5.9;, score=-38.160 total time=   0.0s\n",
      "[CV 4/5] END ................model__alpha=5.9;, score=-40.443 total time=   0.0s\n",
      "[CV 5/5] END ................model__alpha=5.9;, score=-39.527 total time=   0.0s\n",
      "[CV 1/5] END ................model__alpha=6.0;, score=-38.678 total time=   0.0s\n",
      "[CV 2/5] END ................model__alpha=6.0;, score=-38.354 total time=   0.0s\n",
      "[CV 3/5] END ................model__alpha=6.0;, score=-38.160 total time=   0.0s\n",
      "[CV 4/5] END ................model__alpha=6.0;, score=-40.443 total time=   0.0s\n",
      "[CV 5/5] END ................model__alpha=6.0;, score=-39.527 total time=   0.0s\n",
      "[CV 1/5] END ................model__alpha=6.1;, score=-38.678 total time=   0.0s\n",
      "[CV 2/5] END ................model__alpha=6.1;, score=-38.354 total time=   0.0s\n",
      "[CV 3/5] END ................model__alpha=6.1;, score=-38.160 total time=   0.0s\n",
      "[CV 4/5] END ................model__alpha=6.1;, score=-40.443 total time=   0.0s\n",
      "[CV 5/5] END ................model__alpha=6.1;, score=-39.527 total time=   0.0s\n",
      "[CV 1/5] END ................model__alpha=6.2;, score=-38.678 total time=   0.0s\n",
      "[CV 2/5] END ................model__alpha=6.2;, score=-38.354 total time=   0.0s\n",
      "[CV 3/5] END ................model__alpha=6.2;, score=-38.160 total time=   0.0s\n",
      "[CV 4/5] END ................model__alpha=6.2;, score=-40.443 total time=   0.0s\n",
      "[CV 5/5] END ................model__alpha=6.2;, score=-39.527 total time=   0.0s\n",
      "[CV 1/5] END ................model__alpha=6.3;, score=-38.678 total time=   0.0s\n",
      "[CV 2/5] END ................model__alpha=6.3;, score=-38.354 total time=   0.0s\n",
      "[CV 3/5] END ................model__alpha=6.3;, score=-38.160 total time=   0.0s\n",
      "[CV 4/5] END ................model__alpha=6.3;, score=-40.443 total time=   0.0s\n",
      "[CV 5/5] END ................model__alpha=6.3;, score=-39.527 total time=   0.0s\n",
      "[CV 1/5] END ................model__alpha=6.4;, score=-38.678 total time=   0.0s\n",
      "[CV 2/5] END ................model__alpha=6.4;, score=-38.354 total time=   0.0s\n",
      "[CV 3/5] END ................model__alpha=6.4;, score=-38.160 total time=   0.0s\n",
      "[CV 4/5] END ................model__alpha=6.4;, score=-40.443 total time=   0.0s\n",
      "[CV 5/5] END ................model__alpha=6.4;, score=-39.527 total time=   0.0s\n"
     ]
    },
    {
     "name": "stdout",
     "output_type": "stream",
     "text": [
      "[CV 1/5] END ................model__alpha=6.5;, score=-38.678 total time=   0.0s\n",
      "[CV 2/5] END ................model__alpha=6.5;, score=-38.354 total time=   0.0s\n",
      "[CV 3/5] END ................model__alpha=6.5;, score=-38.160 total time=   0.0s\n",
      "[CV 4/5] END ................model__alpha=6.5;, score=-40.443 total time=   0.0s\n",
      "[CV 5/5] END ................model__alpha=6.5;, score=-39.527 total time=   0.0s\n",
      "[CV 1/5] END ................model__alpha=6.6;, score=-38.678 total time=   0.0s\n",
      "[CV 2/5] END ................model__alpha=6.6;, score=-38.354 total time=   0.0s\n",
      "[CV 3/5] END ................model__alpha=6.6;, score=-38.160 total time=   0.0s\n",
      "[CV 4/5] END ................model__alpha=6.6;, score=-40.443 total time=   0.0s\n",
      "[CV 5/5] END ................model__alpha=6.6;, score=-39.527 total time=   0.0s\n",
      "[CV 1/5] END ................model__alpha=6.7;, score=-38.678 total time=   0.0s\n",
      "[CV 2/5] END ................model__alpha=6.7;, score=-38.354 total time=   0.0s\n",
      "[CV 3/5] END ................model__alpha=6.7;, score=-38.160 total time=   0.0s\n",
      "[CV 4/5] END ................model__alpha=6.7;, score=-40.443 total time=   0.0s\n",
      "[CV 5/5] END ................model__alpha=6.7;, score=-39.527 total time=   0.0s\n",
      "[CV 1/5] END ................model__alpha=6.8;, score=-38.678 total time=   0.0s\n",
      "[CV 2/5] END ................model__alpha=6.8;, score=-38.354 total time=   0.0s\n",
      "[CV 3/5] END ................model__alpha=6.8;, score=-38.160 total time=   0.0s\n",
      "[CV 4/5] END ................model__alpha=6.8;, score=-40.443 total time=   0.0s\n",
      "[CV 5/5] END ................model__alpha=6.8;, score=-39.527 total time=   0.0s\n",
      "[CV 1/5] END ................model__alpha=6.9;, score=-38.678 total time=   0.0s\n",
      "[CV 2/5] END ................model__alpha=6.9;, score=-38.354 total time=   0.0s\n",
      "[CV 3/5] END ................model__alpha=6.9;, score=-38.160 total time=   0.0s\n",
      "[CV 4/5] END ................model__alpha=6.9;, score=-40.443 total time=   0.0s\n",
      "[CV 5/5] END ................model__alpha=6.9;, score=-39.527 total time=   0.0s\n",
      "[CV 1/5] END ................model__alpha=7.0;, score=-38.678 total time=   0.0s\n",
      "[CV 2/5] END ................model__alpha=7.0;, score=-38.354 total time=   0.0s\n",
      "[CV 3/5] END ................model__alpha=7.0;, score=-38.160 total time=   0.0s\n",
      "[CV 4/5] END ................model__alpha=7.0;, score=-40.443 total time=   0.0s\n",
      "[CV 5/5] END ................model__alpha=7.0;, score=-39.527 total time=   0.0s\n",
      "[CV 1/5] END ................model__alpha=7.1;, score=-38.678 total time=   0.0s\n",
      "[CV 2/5] END ................model__alpha=7.1;, score=-38.354 total time=   0.0s\n",
      "[CV 3/5] END ................model__alpha=7.1;, score=-38.160 total time=   0.0s\n",
      "[CV 4/5] END ................model__alpha=7.1;, score=-40.443 total time=   0.0s\n",
      "[CV 5/5] END ................model__alpha=7.1;, score=-39.527 total time=   0.0s\n",
      "[CV 1/5] END ................model__alpha=7.2;, score=-38.678 total time=   0.0s\n",
      "[CV 2/5] END ................model__alpha=7.2;, score=-38.354 total time=   0.0s\n",
      "[CV 3/5] END ................model__alpha=7.2;, score=-38.160 total time=   0.0s\n",
      "[CV 4/5] END ................model__alpha=7.2;, score=-40.443 total time=   0.0s\n",
      "[CV 5/5] END ................model__alpha=7.2;, score=-39.527 total time=   0.0s\n",
      "[CV 1/5] END ................model__alpha=7.3;, score=-38.678 total time=   0.0s\n",
      "[CV 2/5] END ................model__alpha=7.3;, score=-38.354 total time=   0.0s\n",
      "[CV 3/5] END ................model__alpha=7.3;, score=-38.160 total time=   0.0s\n",
      "[CV 4/5] END ................model__alpha=7.3;, score=-40.443 total time=   0.0s\n",
      "[CV 5/5] END ................model__alpha=7.3;, score=-39.527 total time=   0.0s\n",
      "[CV 1/5] END ................model__alpha=7.4;, score=-38.678 total time=   0.0s\n",
      "[CV 2/5] END ................model__alpha=7.4;, score=-38.354 total time=   0.0s\n",
      "[CV 3/5] END ................model__alpha=7.4;, score=-38.160 total time=   0.0s\n",
      "[CV 4/5] END ................model__alpha=7.4;, score=-40.443 total time=   0.0s\n",
      "[CV 5/5] END ................model__alpha=7.4;, score=-39.527 total time=   0.0s\n",
      "[CV 1/5] END ................model__alpha=7.5;, score=-38.678 total time=   0.0s\n",
      "[CV 2/5] END ................model__alpha=7.5;, score=-38.354 total time=   0.0s\n",
      "[CV 3/5] END ................model__alpha=7.5;, score=-38.160 total time=   0.0s\n",
      "[CV 4/5] END ................model__alpha=7.5;, score=-40.443 total time=   0.0s\n",
      "[CV 5/5] END ................model__alpha=7.5;, score=-39.527 total time=   0.0s\n",
      "[CV 1/5] END ................model__alpha=7.6;, score=-38.678 total time=   0.0s\n",
      "[CV 2/5] END ................model__alpha=7.6;, score=-38.354 total time=   0.0s\n",
      "[CV 3/5] END ................model__alpha=7.6;, score=-38.160 total time=   0.0s\n",
      "[CV 4/5] END ................model__alpha=7.6;, score=-40.443 total time=   0.0s\n",
      "[CV 5/5] END ................model__alpha=7.6;, score=-39.527 total time=   0.0s\n",
      "[CV 1/5] END ................model__alpha=7.7;, score=-38.678 total time=   0.0s\n",
      "[CV 2/5] END ................model__alpha=7.7;, score=-38.354 total time=   0.0s\n",
      "[CV 3/5] END ................model__alpha=7.7;, score=-38.160 total time=   0.0s\n",
      "[CV 4/5] END ................model__alpha=7.7;, score=-40.443 total time=   0.0s\n",
      "[CV 5/5] END ................model__alpha=7.7;, score=-39.527 total time=   0.0s\n",
      "[CV 1/5] END ................model__alpha=7.8;, score=-38.678 total time=   0.0s\n",
      "[CV 2/5] END ................model__alpha=7.8;, score=-38.354 total time=   0.0s\n",
      "[CV 3/5] END ................model__alpha=7.8;, score=-38.160 total time=   0.0s\n",
      "[CV 4/5] END ................model__alpha=7.8;, score=-40.443 total time=   0.0s\n",
      "[CV 5/5] END ................model__alpha=7.8;, score=-39.527 total time=   0.0s\n",
      "[CV 1/5] END ................model__alpha=7.9;, score=-38.678 total time=   0.0s\n",
      "[CV 2/5] END ................model__alpha=7.9;, score=-38.354 total time=   0.0s\n",
      "[CV 3/5] END ................model__alpha=7.9;, score=-38.160 total time=   0.0s\n",
      "[CV 4/5] END ................model__alpha=7.9;, score=-40.443 total time=   0.0s\n",
      "[CV 5/5] END ................model__alpha=7.9;, score=-39.527 total time=   0.0s\n",
      "[CV 1/5] END ................model__alpha=8.0;, score=-38.678 total time=   0.0s\n",
      "[CV 2/5] END ................model__alpha=8.0;, score=-38.354 total time=   0.0s\n",
      "[CV 3/5] END ................model__alpha=8.0;, score=-38.160 total time=   0.0s\n",
      "[CV 4/5] END ................model__alpha=8.0;, score=-40.443 total time=   0.0s\n",
      "[CV 5/5] END ................model__alpha=8.0;, score=-39.527 total time=   0.0s\n",
      "[CV 1/5] END ................model__alpha=8.1;, score=-38.678 total time=   0.0s\n",
      "[CV 2/5] END ................model__alpha=8.1;, score=-38.354 total time=   0.0s\n",
      "[CV 3/5] END ................model__alpha=8.1;, score=-38.160 total time=   0.0s\n",
      "[CV 4/5] END ................model__alpha=8.1;, score=-40.443 total time=   0.0s\n",
      "[CV 5/5] END ................model__alpha=8.1;, score=-39.527 total time=   0.0s\n",
      "[CV 1/5] END ................model__alpha=8.2;, score=-38.678 total time=   0.0s\n",
      "[CV 2/5] END ................model__alpha=8.2;, score=-38.354 total time=   0.0s\n",
      "[CV 3/5] END ................model__alpha=8.2;, score=-38.160 total time=   0.0s\n",
      "[CV 4/5] END ................model__alpha=8.2;, score=-40.443 total time=   0.0s\n",
      "[CV 5/5] END ................model__alpha=8.2;, score=-39.527 total time=   0.0s\n",
      "[CV 1/5] END ................model__alpha=8.3;, score=-38.678 total time=   0.0s\n",
      "[CV 2/5] END ................model__alpha=8.3;, score=-38.354 total time=   0.0s\n",
      "[CV 3/5] END ................model__alpha=8.3;, score=-38.160 total time=   0.0s\n",
      "[CV 4/5] END ................model__alpha=8.3;, score=-40.443 total time=   0.0s\n",
      "[CV 5/5] END ................model__alpha=8.3;, score=-39.527 total time=   0.0s\n",
      "[CV 1/5] END ................model__alpha=8.4;, score=-38.678 total time=   0.0s\n",
      "[CV 2/5] END ................model__alpha=8.4;, score=-38.354 total time=   0.0s\n",
      "[CV 3/5] END ................model__alpha=8.4;, score=-38.160 total time=   0.0s\n",
      "[CV 4/5] END ................model__alpha=8.4;, score=-40.443 total time=   0.0s\n",
      "[CV 5/5] END ................model__alpha=8.4;, score=-39.527 total time=   0.0s\n",
      "[CV 1/5] END ................model__alpha=8.5;, score=-38.678 total time=   0.0s\n",
      "[CV 2/5] END ................model__alpha=8.5;, score=-38.354 total time=   0.0s\n",
      "[CV 3/5] END ................model__alpha=8.5;, score=-38.160 total time=   0.0s\n",
      "[CV 4/5] END ................model__alpha=8.5;, score=-40.443 total time=   0.0s\n",
      "[CV 5/5] END ................model__alpha=8.5;, score=-39.527 total time=   0.0s\n",
      "[CV 1/5] END ................model__alpha=8.6;, score=-38.678 total time=   0.0s\n",
      "[CV 2/5] END ................model__alpha=8.6;, score=-38.354 total time=   0.0s\n",
      "[CV 3/5] END ................model__alpha=8.6;, score=-38.160 total time=   0.0s\n",
      "[CV 4/5] END ................model__alpha=8.6;, score=-40.443 total time=   0.0s\n",
      "[CV 5/5] END ................model__alpha=8.6;, score=-39.527 total time=   0.0s\n",
      "[CV 1/5] END ................model__alpha=8.7;, score=-38.678 total time=   0.0s\n"
     ]
    },
    {
     "name": "stdout",
     "output_type": "stream",
     "text": [
      "[CV 2/5] END ................model__alpha=8.7;, score=-38.354 total time=   0.0s\n",
      "[CV 3/5] END ................model__alpha=8.7;, score=-38.160 total time=   0.0s\n",
      "[CV 4/5] END ................model__alpha=8.7;, score=-40.443 total time=   0.0s\n",
      "[CV 5/5] END ................model__alpha=8.7;, score=-39.527 total time=   0.0s\n",
      "[CV 1/5] END ................model__alpha=8.8;, score=-38.678 total time=   0.0s\n",
      "[CV 2/5] END ................model__alpha=8.8;, score=-38.354 total time=   0.0s\n",
      "[CV 3/5] END ................model__alpha=8.8;, score=-38.160 total time=   0.0s\n",
      "[CV 4/5] END ................model__alpha=8.8;, score=-40.443 total time=   0.0s\n",
      "[CV 5/5] END ................model__alpha=8.8;, score=-39.527 total time=   0.0s\n",
      "[CV 1/5] END ................model__alpha=8.9;, score=-38.678 total time=   0.0s\n",
      "[CV 2/5] END ................model__alpha=8.9;, score=-38.354 total time=   0.0s\n",
      "[CV 3/5] END ................model__alpha=8.9;, score=-38.160 total time=   0.0s\n",
      "[CV 4/5] END ................model__alpha=8.9;, score=-40.443 total time=   0.0s\n",
      "[CV 5/5] END ................model__alpha=8.9;, score=-39.527 total time=   0.0s\n",
      "[CV 1/5] END ................model__alpha=9.0;, score=-38.678 total time=   0.0s\n",
      "[CV 2/5] END ................model__alpha=9.0;, score=-38.354 total time=   0.0s\n",
      "[CV 3/5] END ................model__alpha=9.0;, score=-38.160 total time=   0.0s\n",
      "[CV 4/5] END ................model__alpha=9.0;, score=-40.443 total time=   0.0s\n",
      "[CV 5/5] END ................model__alpha=9.0;, score=-39.527 total time=   0.0s\n",
      "[CV 1/5] END ................model__alpha=9.1;, score=-38.678 total time=   0.0s\n",
      "[CV 2/5] END ................model__alpha=9.1;, score=-38.354 total time=   0.0s\n",
      "[CV 3/5] END ................model__alpha=9.1;, score=-38.160 total time=   0.0s\n",
      "[CV 4/5] END ................model__alpha=9.1;, score=-40.443 total time=   0.0s\n",
      "[CV 5/5] END ................model__alpha=9.1;, score=-39.527 total time=   0.0s\n",
      "[CV 1/5] END ................model__alpha=9.2;, score=-38.678 total time=   0.0s\n",
      "[CV 2/5] END ................model__alpha=9.2;, score=-38.354 total time=   0.0s\n",
      "[CV 3/5] END ................model__alpha=9.2;, score=-38.160 total time=   0.0s\n",
      "[CV 4/5] END ................model__alpha=9.2;, score=-40.443 total time=   0.0s\n",
      "[CV 5/5] END ................model__alpha=9.2;, score=-39.527 total time=   0.0s\n",
      "[CV 1/5] END ................model__alpha=9.3;, score=-38.678 total time=   0.0s\n",
      "[CV 2/5] END ................model__alpha=9.3;, score=-38.354 total time=   0.0s\n",
      "[CV 3/5] END ................model__alpha=9.3;, score=-38.160 total time=   0.0s\n",
      "[CV 4/5] END ................model__alpha=9.3;, score=-40.443 total time=   0.0s\n",
      "[CV 5/5] END ................model__alpha=9.3;, score=-39.527 total time=   0.0s\n",
      "[CV 1/5] END ................model__alpha=9.4;, score=-38.678 total time=   0.0s\n",
      "[CV 2/5] END ................model__alpha=9.4;, score=-38.354 total time=   0.0s\n",
      "[CV 3/5] END ................model__alpha=9.4;, score=-38.160 total time=   0.0s\n",
      "[CV 4/5] END ................model__alpha=9.4;, score=-40.443 total time=   0.0s\n",
      "[CV 5/5] END ................model__alpha=9.4;, score=-39.527 total time=   0.0s\n",
      "[CV 1/5] END ................model__alpha=9.5;, score=-38.678 total time=   0.0s\n",
      "[CV 2/5] END ................model__alpha=9.5;, score=-38.354 total time=   0.0s\n",
      "[CV 3/5] END ................model__alpha=9.5;, score=-38.160 total time=   0.0s\n",
      "[CV 4/5] END ................model__alpha=9.5;, score=-40.443 total time=   0.0s\n",
      "[CV 5/5] END ................model__alpha=9.5;, score=-39.527 total time=   0.0s\n",
      "[CV 1/5] END ................model__alpha=9.6;, score=-38.678 total time=   0.0s\n",
      "[CV 2/5] END ................model__alpha=9.6;, score=-38.354 total time=   0.0s\n",
      "[CV 3/5] END ................model__alpha=9.6;, score=-38.160 total time=   0.0s\n",
      "[CV 4/5] END ................model__alpha=9.6;, score=-40.443 total time=   0.0s\n",
      "[CV 5/5] END ................model__alpha=9.6;, score=-39.527 total time=   0.0s\n",
      "[CV 1/5] END ..model__alpha=9.700000000000001;, score=-38.678 total time=   0.0s\n",
      "[CV 2/5] END ..model__alpha=9.700000000000001;, score=-38.354 total time=   0.0s\n",
      "[CV 3/5] END ..model__alpha=9.700000000000001;, score=-38.160 total time=   0.0s\n",
      "[CV 4/5] END ..model__alpha=9.700000000000001;, score=-40.443 total time=   0.0s\n",
      "[CV 5/5] END ..model__alpha=9.700000000000001;, score=-39.527 total time=   0.0s\n",
      "[CV 1/5] END ................model__alpha=9.8;, score=-38.678 total time=   0.0s\n",
      "[CV 2/5] END ................model__alpha=9.8;, score=-38.354 total time=   0.0s\n",
      "[CV 3/5] END ................model__alpha=9.8;, score=-38.160 total time=   0.0s\n",
      "[CV 4/5] END ................model__alpha=9.8;, score=-40.443 total time=   0.0s\n",
      "[CV 5/5] END ................model__alpha=9.8;, score=-39.527 total time=   0.0s\n",
      "[CV 1/5] END ................model__alpha=9.9;, score=-38.678 total time=   0.0s\n",
      "[CV 2/5] END ................model__alpha=9.9;, score=-38.354 total time=   0.0s\n",
      "[CV 3/5] END ................model__alpha=9.9;, score=-38.160 total time=   0.0s\n",
      "[CV 4/5] END ................model__alpha=9.9;, score=-40.443 total time=   0.0s\n",
      "[CV 5/5] END ................model__alpha=9.9;, score=-39.527 total time=   0.0s\n"
     ]
    },
    {
     "data": {
      "text/plain": [
       "GridSearchCV(cv=5,\n",
       "             estimator=Pipeline(steps=[('scaler', StandardScaler()),\n",
       "                                       ('model', Lasso())]),\n",
       "             param_grid={'model__alpha': array([0.1, 0.2, 0.3, 0.4, 0.5, 0.6, 0.7, 0.8, 0.9, 1. , 1.1, 1.2, 1.3,\n",
       "       1.4, 1.5, 1.6, 1.7, 1.8, 1.9, 2. , 2.1, 2.2, 2.3, 2.4, 2.5, 2.6,\n",
       "       2.7, 2.8, 2.9, 3. , 3.1, 3.2, 3.3, 3.4, 3.5, 3.6, 3.7, 3.8, 3.9,\n",
       "       4. , 4.1, 4.2, 4.3, 4.4, 4.5, 4.6, 4.7, 4.8, 4.9, 5. , 5.1, 5.2,\n",
       "       5.3, 5.4, 5.5, 5.6, 5.7, 5.8, 5.9, 6. , 6.1, 6.2, 6.3, 6.4, 6.5,\n",
       "       6.6, 6.7, 6.8, 6.9, 7. , 7.1, 7.2, 7.3, 7.4, 7.5, 7.6, 7.7, 7.8,\n",
       "       7.9, 8. , 8.1, 8.2, 8.3, 8.4, 8.5, 8.6, 8.7, 8.8, 8.9, 9. , 9.1,\n",
       "       9.2, 9.3, 9.4, 9.5, 9.6, 9.7, 9.8, 9.9])},\n",
       "             scoring='neg_mean_squared_error', verbose=3)"
      ]
     },
     "execution_count": 60,
     "metadata": {},
     "output_type": "execute_result"
    }
   ],
   "source": [
    "search.fit(x_train,y_train)"
   ]
  },
  {
   "cell_type": "code",
   "execution_count": 61,
   "id": "04f494b7",
   "metadata": {},
   "outputs": [
    {
     "data": {
      "text/plain": [
       "{'model__alpha': 0.1}"
      ]
     },
     "execution_count": 61,
     "metadata": {},
     "output_type": "execute_result"
    }
   ],
   "source": [
    "search.best_params_"
   ]
  },
  {
   "cell_type": "code",
   "execution_count": 62,
   "id": "ce6747cd",
   "metadata": {},
   "outputs": [
    {
     "data": {
      "text/html": [
       "<div>\n",
       "<style scoped>\n",
       "    .dataframe tbody tr th:only-of-type {\n",
       "        vertical-align: middle;\n",
       "    }\n",
       "\n",
       "    .dataframe tbody tr th {\n",
       "        vertical-align: top;\n",
       "    }\n",
       "\n",
       "    .dataframe thead th {\n",
       "        text-align: right;\n",
       "    }\n",
       "</style>\n",
       "<table border=\"1\" class=\"dataframe\">\n",
       "  <thead>\n",
       "    <tr style=\"text-align: right;\">\n",
       "      <th></th>\n",
       "      <th>fare_amount</th>\n",
       "      <th>passenger_count</th>\n",
       "      <th>H_Distance</th>\n",
       "      <th>Month</th>\n",
       "      <th>Date</th>\n",
       "      <th>Day of Week</th>\n",
       "      <th>Hour</th>\n",
       "      <th>Year_2009</th>\n",
       "      <th>Year_2010</th>\n",
       "      <th>Year_2011</th>\n",
       "      <th>Year_2012</th>\n",
       "      <th>Year_2013</th>\n",
       "      <th>Year_2014</th>\n",
       "      <th>Year_2015</th>\n",
       "    </tr>\n",
       "  </thead>\n",
       "  <tbody>\n",
       "    <tr>\n",
       "      <th>0</th>\n",
       "      <td>4.9</td>\n",
       "      <td>2</td>\n",
       "      <td>1.116850</td>\n",
       "      <td>4</td>\n",
       "      <td>8</td>\n",
       "      <td>2</td>\n",
       "      <td>19</td>\n",
       "      <td>1</td>\n",
       "      <td>0</td>\n",
       "      <td>0</td>\n",
       "      <td>0</td>\n",
       "      <td>0</td>\n",
       "      <td>0</td>\n",
       "      <td>0</td>\n",
       "    </tr>\n",
       "    <tr>\n",
       "      <th>1</th>\n",
       "      <td>4.9</td>\n",
       "      <td>2</td>\n",
       "      <td>1.055053</td>\n",
       "      <td>7</td>\n",
       "      <td>30</td>\n",
       "      <td>0</td>\n",
       "      <td>16</td>\n",
       "      <td>0</td>\n",
       "      <td>0</td>\n",
       "      <td>0</td>\n",
       "      <td>1</td>\n",
       "      <td>0</td>\n",
       "      <td>0</td>\n",
       "      <td>0</td>\n",
       "    </tr>\n",
       "    <tr>\n",
       "      <th>2</th>\n",
       "      <td>6.9</td>\n",
       "      <td>1</td>\n",
       "      <td>2.715959</td>\n",
       "      <td>2</td>\n",
       "      <td>22</td>\n",
       "      <td>1</td>\n",
       "      <td>13</td>\n",
       "      <td>0</td>\n",
       "      <td>0</td>\n",
       "      <td>1</td>\n",
       "      <td>0</td>\n",
       "      <td>0</td>\n",
       "      <td>0</td>\n",
       "      <td>0</td>\n",
       "    </tr>\n",
       "    <tr>\n",
       "      <th>3</th>\n",
       "      <td>14.1</td>\n",
       "      <td>1</td>\n",
       "      <td>5.101370</td>\n",
       "      <td>10</td>\n",
       "      <td>7</td>\n",
       "      <td>3</td>\n",
       "      <td>21</td>\n",
       "      <td>0</td>\n",
       "      <td>1</td>\n",
       "      <td>0</td>\n",
       "      <td>0</td>\n",
       "      <td>0</td>\n",
       "      <td>0</td>\n",
       "      <td>0</td>\n",
       "    </tr>\n",
       "    <tr>\n",
       "      <th>5</th>\n",
       "      <td>21.3</td>\n",
       "      <td>1</td>\n",
       "      <td>7.088301</td>\n",
       "      <td>10</td>\n",
       "      <td>7</td>\n",
       "      <td>2</td>\n",
       "      <td>8</td>\n",
       "      <td>1</td>\n",
       "      <td>0</td>\n",
       "      <td>0</td>\n",
       "      <td>0</td>\n",
       "      <td>0</td>\n",
       "      <td>0</td>\n",
       "      <td>0</td>\n",
       "    </tr>\n",
       "    <tr>\n",
       "      <th>...</th>\n",
       "      <td>...</td>\n",
       "      <td>...</td>\n",
       "      <td>...</td>\n",
       "      <td>...</td>\n",
       "      <td>...</td>\n",
       "      <td>...</td>\n",
       "      <td>...</td>\n",
       "      <td>...</td>\n",
       "      <td>...</td>\n",
       "      <td>...</td>\n",
       "      <td>...</td>\n",
       "      <td>...</td>\n",
       "      <td>...</td>\n",
       "      <td>...</td>\n",
       "    </tr>\n",
       "    <tr>\n",
       "      <th>99995</th>\n",
       "      <td>4.5</td>\n",
       "      <td>1</td>\n",
       "      <td>1.198577</td>\n",
       "      <td>6</td>\n",
       "      <td>8</td>\n",
       "      <td>0</td>\n",
       "      <td>7</td>\n",
       "      <td>0</td>\n",
       "      <td>0</td>\n",
       "      <td>0</td>\n",
       "      <td>0</td>\n",
       "      <td>0</td>\n",
       "      <td>0</td>\n",
       "      <td>1</td>\n",
       "    </tr>\n",
       "    <tr>\n",
       "      <th>99996</th>\n",
       "      <td>25.5</td>\n",
       "      <td>1</td>\n",
       "      <td>8.073564</td>\n",
       "      <td>9</td>\n",
       "      <td>17</td>\n",
       "      <td>0</td>\n",
       "      <td>15</td>\n",
       "      <td>0</td>\n",
       "      <td>0</td>\n",
       "      <td>0</td>\n",
       "      <td>1</td>\n",
       "      <td>0</td>\n",
       "      <td>0</td>\n",
       "      <td>0</td>\n",
       "    </tr>\n",
       "    <tr>\n",
       "      <th>99997</th>\n",
       "      <td>14.5</td>\n",
       "      <td>1</td>\n",
       "      <td>2.808335</td>\n",
       "      <td>2</td>\n",
       "      <td>2</td>\n",
       "      <td>5</td>\n",
       "      <td>19</td>\n",
       "      <td>0</td>\n",
       "      <td>0</td>\n",
       "      <td>0</td>\n",
       "      <td>0</td>\n",
       "      <td>1</td>\n",
       "      <td>0</td>\n",
       "      <td>0</td>\n",
       "    </tr>\n",
       "    <tr>\n",
       "      <th>99998</th>\n",
       "      <td>9.0</td>\n",
       "      <td>1</td>\n",
       "      <td>2.076158</td>\n",
       "      <td>12</td>\n",
       "      <td>28</td>\n",
       "      <td>5</td>\n",
       "      <td>15</td>\n",
       "      <td>0</td>\n",
       "      <td>0</td>\n",
       "      <td>0</td>\n",
       "      <td>0</td>\n",
       "      <td>1</td>\n",
       "      <td>0</td>\n",
       "      <td>0</td>\n",
       "    </tr>\n",
       "    <tr>\n",
       "      <th>99999</th>\n",
       "      <td>15.0</td>\n",
       "      <td>1</td>\n",
       "      <td>2.821245</td>\n",
       "      <td>4</td>\n",
       "      <td>26</td>\n",
       "      <td>5</td>\n",
       "      <td>19</td>\n",
       "      <td>0</td>\n",
       "      <td>0</td>\n",
       "      <td>0</td>\n",
       "      <td>0</td>\n",
       "      <td>0</td>\n",
       "      <td>1</td>\n",
       "      <td>0</td>\n",
       "    </tr>\n",
       "  </tbody>\n",
       "</table>\n",
       "<p>87835 rows × 14 columns</p>\n",
       "</div>"
      ],
      "text/plain": [
       "       fare_amount  passenger_count  H_Distance  Month  Date  Day of Week  \\\n",
       "0              4.9                2    1.116850      4     8            2   \n",
       "1              4.9                2    1.055053      7    30            0   \n",
       "2              6.9                1    2.715959      2    22            1   \n",
       "3             14.1                1    5.101370     10     7            3   \n",
       "5             21.3                1    7.088301     10     7            2   \n",
       "...            ...              ...         ...    ...   ...          ...   \n",
       "99995          4.5                1    1.198577      6     8            0   \n",
       "99996         25.5                1    8.073564      9    17            0   \n",
       "99997         14.5                1    2.808335      2     2            5   \n",
       "99998          9.0                1    2.076158     12    28            5   \n",
       "99999         15.0                1    2.821245      4    26            5   \n",
       "\n",
       "       Hour  Year_2009  Year_2010  Year_2011  Year_2012  Year_2013  Year_2014  \\\n",
       "0        19          1          0          0          0          0          0   \n",
       "1        16          0          0          0          1          0          0   \n",
       "2        13          0          0          1          0          0          0   \n",
       "3        21          0          1          0          0          0          0   \n",
       "5         8          1          0          0          0          0          0   \n",
       "...     ...        ...        ...        ...        ...        ...        ...   \n",
       "99995     7          0          0          0          0          0          0   \n",
       "99996    15          0          0          0          1          0          0   \n",
       "99997    19          0          0          0          0          1          0   \n",
       "99998    15          0          0          0          0          1          0   \n",
       "99999    19          0          0          0          0          0          1   \n",
       "\n",
       "       Year_2015  \n",
       "0              0  \n",
       "1              0  \n",
       "2              0  \n",
       "3              0  \n",
       "5              0  \n",
       "...          ...  \n",
       "99995          1  \n",
       "99996          0  \n",
       "99997          0  \n",
       "99998          0  \n",
       "99999          0  \n",
       "\n",
       "[87835 rows x 14 columns]"
      ]
     },
     "execution_count": 62,
     "metadata": {},
     "output_type": "execute_result"
    }
   ],
   "source": [
    "train"
   ]
  },
  {
   "cell_type": "code",
   "execution_count": 63,
   "id": "310706e8",
   "metadata": {},
   "outputs": [],
   "source": [
    "coefficients = search.best_estimator_.named_steps['model'].coef_"
   ]
  },
  {
   "cell_type": "code",
   "execution_count": 64,
   "id": "c3c37f19",
   "metadata": {},
   "outputs": [
    {
     "data": {
      "text/plain": [
       "array([0.        , 5.20120778, 0.08508329, 0.        , 0.        ,\n",
       "       0.        , 0.12300805, 0.0916388 , 0.06273623, 0.        ,\n",
       "       0.36164389, 0.42478236, 0.29803844])"
      ]
     },
     "execution_count": 64,
     "metadata": {},
     "output_type": "execute_result"
    }
   ],
   "source": [
    "importance = np.abs(coefficients)\n",
    "importance"
   ]
  },
  {
   "cell_type": "code",
   "execution_count": 65,
   "id": "325f14e4",
   "metadata": {},
   "outputs": [
    {
     "data": {
      "text/plain": [
       "['H_Distance',\n",
       " 'Month',\n",
       " 'Year_2009',\n",
       " 'Year_2010',\n",
       " 'Year_2011',\n",
       " 'Year_2013',\n",
       " 'Year_2014',\n",
       " 'Year_2015',\n",
       " 'fare_amount']"
      ]
     },
     "execution_count": 65,
     "metadata": {},
     "output_type": "execute_result"
    }
   ],
   "source": [
    "a  =np.array(list(x.columns))[importance > 0]\n",
    "\n",
    "b = list(a)+ ['fare_amount']\n",
    "b"
   ]
  },
  {
   "cell_type": "code",
   "execution_count": 66,
   "id": "edb650e3",
   "metadata": {},
   "outputs": [
    {
     "data": {
      "text/plain": [
       "array(['H_Distance', 'Month', 'Year_2009', 'Year_2010', 'Year_2011',\n",
       "       'Year_2013', 'Year_2014', 'Year_2015'], dtype='<U15')"
      ]
     },
     "execution_count": 66,
     "metadata": {},
     "output_type": "execute_result"
    }
   ],
   "source": [
    "np.array(list(x.columns))[importance > 0]"
   ]
  },
  {
   "cell_type": "code",
   "execution_count": 67,
   "id": "6dc71d81",
   "metadata": {},
   "outputs": [
    {
     "data": {
      "text/plain": [
       "Index(['passenger_count', 'H_Distance', 'Month', 'Date', 'Day of Week', 'Hour',\n",
       "       'Year_2009', 'Year_2010', 'Year_2011', 'Year_2012', 'Year_2013',\n",
       "       'Year_2014', 'Year_2015'],\n",
       "      dtype='object')"
      ]
     },
     "execution_count": 67,
     "metadata": {},
     "output_type": "execute_result"
    }
   ],
   "source": [
    "x.columns"
   ]
  },
  {
   "cell_type": "code",
   "execution_count": 68,
   "id": "b7ed462d",
   "metadata": {},
   "outputs": [],
   "source": [
    "X_train = x_train[a]\n",
    "X_test = x_test[a]\n"
   ]
  },
  {
   "cell_type": "code",
   "execution_count": 69,
   "id": "3206d6ec",
   "metadata": {},
   "outputs": [],
   "source": [
    "train  = train[b]\n"
   ]
  },
  {
   "cell_type": "code",
   "execution_count": 70,
   "id": "380fff90",
   "metadata": {},
   "outputs": [],
   "source": [
    "testt = testt[a]"
   ]
  },
  {
   "cell_type": "code",
   "execution_count": 71,
   "id": "cc288d5d",
   "metadata": {},
   "outputs": [
    {
     "data": {
      "text/html": [
       "<div>\n",
       "<style scoped>\n",
       "    .dataframe tbody tr th:only-of-type {\n",
       "        vertical-align: middle;\n",
       "    }\n",
       "\n",
       "    .dataframe tbody tr th {\n",
       "        vertical-align: top;\n",
       "    }\n",
       "\n",
       "    .dataframe thead th {\n",
       "        text-align: right;\n",
       "    }\n",
       "</style>\n",
       "<table border=\"1\" class=\"dataframe\">\n",
       "  <thead>\n",
       "    <tr style=\"text-align: right;\">\n",
       "      <th></th>\n",
       "      <th>H_Distance</th>\n",
       "      <th>Month</th>\n",
       "      <th>Year_2009</th>\n",
       "      <th>Year_2010</th>\n",
       "      <th>Year_2011</th>\n",
       "      <th>Year_2013</th>\n",
       "      <th>Year_2014</th>\n",
       "      <th>Year_2015</th>\n",
       "    </tr>\n",
       "  </thead>\n",
       "  <tbody>\n",
       "    <tr>\n",
       "      <th>0</th>\n",
       "      <td>2.323260</td>\n",
       "      <td>1</td>\n",
       "      <td>0</td>\n",
       "      <td>0</td>\n",
       "      <td>0</td>\n",
       "      <td>0</td>\n",
       "      <td>0</td>\n",
       "      <td>1</td>\n",
       "    </tr>\n",
       "    <tr>\n",
       "      <th>1</th>\n",
       "      <td>2.425353</td>\n",
       "      <td>1</td>\n",
       "      <td>0</td>\n",
       "      <td>0</td>\n",
       "      <td>0</td>\n",
       "      <td>0</td>\n",
       "      <td>0</td>\n",
       "      <td>1</td>\n",
       "    </tr>\n",
       "    <tr>\n",
       "      <th>2</th>\n",
       "      <td>0.618628</td>\n",
       "      <td>10</td>\n",
       "      <td>0</td>\n",
       "      <td>0</td>\n",
       "      <td>1</td>\n",
       "      <td>0</td>\n",
       "      <td>0</td>\n",
       "      <td>0</td>\n",
       "    </tr>\n",
       "    <tr>\n",
       "      <th>3</th>\n",
       "      <td>1.961033</td>\n",
       "      <td>12</td>\n",
       "      <td>0</td>\n",
       "      <td>0</td>\n",
       "      <td>0</td>\n",
       "      <td>0</td>\n",
       "      <td>0</td>\n",
       "      <td>0</td>\n",
       "    </tr>\n",
       "    <tr>\n",
       "      <th>4</th>\n",
       "      <td>5.387301</td>\n",
       "      <td>12</td>\n",
       "      <td>0</td>\n",
       "      <td>0</td>\n",
       "      <td>0</td>\n",
       "      <td>0</td>\n",
       "      <td>0</td>\n",
       "      <td>0</td>\n",
       "    </tr>\n",
       "  </tbody>\n",
       "</table>\n",
       "</div>"
      ],
      "text/plain": [
       "   H_Distance  Month  Year_2009  Year_2010  Year_2011  Year_2013  Year_2014  \\\n",
       "0    2.323260      1          0          0          0          0          0   \n",
       "1    2.425353      1          0          0          0          0          0   \n",
       "2    0.618628     10          0          0          1          0          0   \n",
       "3    1.961033     12          0          0          0          0          0   \n",
       "4    5.387301     12          0          0          0          0          0   \n",
       "\n",
       "   Year_2015  \n",
       "0          1  \n",
       "1          1  \n",
       "2          0  \n",
       "3          0  \n",
       "4          0  "
      ]
     },
     "execution_count": 71,
     "metadata": {},
     "output_type": "execute_result"
    }
   ],
   "source": [
    "testt.head()"
   ]
  },
  {
   "cell_type": "code",
   "execution_count": 72,
   "id": "c56a9616",
   "metadata": {},
   "outputs": [
    {
     "data": {
      "text/html": [
       "<div>\n",
       "<style scoped>\n",
       "    .dataframe tbody tr th:only-of-type {\n",
       "        vertical-align: middle;\n",
       "    }\n",
       "\n",
       "    .dataframe tbody tr th {\n",
       "        vertical-align: top;\n",
       "    }\n",
       "\n",
       "    .dataframe thead th {\n",
       "        text-align: right;\n",
       "    }\n",
       "</style>\n",
       "<table border=\"1\" class=\"dataframe\">\n",
       "  <thead>\n",
       "    <tr style=\"text-align: right;\">\n",
       "      <th></th>\n",
       "      <th>H_Distance</th>\n",
       "      <th>Month</th>\n",
       "      <th>Year_2009</th>\n",
       "      <th>Year_2010</th>\n",
       "      <th>Year_2011</th>\n",
       "      <th>Year_2013</th>\n",
       "      <th>Year_2014</th>\n",
       "      <th>Year_2015</th>\n",
       "      <th>fare_amount</th>\n",
       "    </tr>\n",
       "  </thead>\n",
       "  <tbody>\n",
       "    <tr>\n",
       "      <th>0</th>\n",
       "      <td>1.116850</td>\n",
       "      <td>4</td>\n",
       "      <td>1</td>\n",
       "      <td>0</td>\n",
       "      <td>0</td>\n",
       "      <td>0</td>\n",
       "      <td>0</td>\n",
       "      <td>0</td>\n",
       "      <td>4.9</td>\n",
       "    </tr>\n",
       "    <tr>\n",
       "      <th>1</th>\n",
       "      <td>1.055053</td>\n",
       "      <td>7</td>\n",
       "      <td>0</td>\n",
       "      <td>0</td>\n",
       "      <td>0</td>\n",
       "      <td>0</td>\n",
       "      <td>0</td>\n",
       "      <td>0</td>\n",
       "      <td>4.9</td>\n",
       "    </tr>\n",
       "    <tr>\n",
       "      <th>2</th>\n",
       "      <td>2.715959</td>\n",
       "      <td>2</td>\n",
       "      <td>0</td>\n",
       "      <td>0</td>\n",
       "      <td>1</td>\n",
       "      <td>0</td>\n",
       "      <td>0</td>\n",
       "      <td>0</td>\n",
       "      <td>6.9</td>\n",
       "    </tr>\n",
       "    <tr>\n",
       "      <th>3</th>\n",
       "      <td>5.101370</td>\n",
       "      <td>10</td>\n",
       "      <td>0</td>\n",
       "      <td>1</td>\n",
       "      <td>0</td>\n",
       "      <td>0</td>\n",
       "      <td>0</td>\n",
       "      <td>0</td>\n",
       "      <td>14.1</td>\n",
       "    </tr>\n",
       "    <tr>\n",
       "      <th>5</th>\n",
       "      <td>7.088301</td>\n",
       "      <td>10</td>\n",
       "      <td>1</td>\n",
       "      <td>0</td>\n",
       "      <td>0</td>\n",
       "      <td>0</td>\n",
       "      <td>0</td>\n",
       "      <td>0</td>\n",
       "      <td>21.3</td>\n",
       "    </tr>\n",
       "  </tbody>\n",
       "</table>\n",
       "</div>"
      ],
      "text/plain": [
       "   H_Distance  Month  Year_2009  Year_2010  Year_2011  Year_2013  Year_2014  \\\n",
       "0    1.116850      4          1          0          0          0          0   \n",
       "1    1.055053      7          0          0          0          0          0   \n",
       "2    2.715959      2          0          0          1          0          0   \n",
       "3    5.101370     10          0          1          0          0          0   \n",
       "5    7.088301     10          1          0          0          0          0   \n",
       "\n",
       "   Year_2015  fare_amount  \n",
       "0          0          4.9  \n",
       "1          0          4.9  \n",
       "2          0          6.9  \n",
       "3          0         14.1  \n",
       "5          0         21.3  "
      ]
     },
     "execution_count": 72,
     "metadata": {},
     "output_type": "execute_result"
    }
   ],
   "source": [
    "train.head()\n"
   ]
  },
  {
   "cell_type": "code",
   "execution_count": 73,
   "id": "477a815c",
   "metadata": {},
   "outputs": [],
   "source": [
    "\n",
    "from sklearn.linear_model import LinearRegression\n",
    "le = LinearRegression()\n",
    "model  = le.fit(X_train,y_train)"
   ]
  },
  {
   "cell_type": "code",
   "execution_count": 74,
   "id": "fd55b577",
   "metadata": {},
   "outputs": [
    {
     "data": {
      "text/plain": [
       "0.7512321334059183"
      ]
     },
     "execution_count": 74,
     "metadata": {},
     "output_type": "execute_result"
    }
   ],
   "source": [
    "model.score(X_test,y_test)"
   ]
  },
  {
   "cell_type": "code",
   "execution_count": 75,
   "id": "7772da17",
   "metadata": {},
   "outputs": [
    {
     "data": {
      "text/html": [
       "<div>\n",
       "<style scoped>\n",
       "    .dataframe tbody tr th:only-of-type {\n",
       "        vertical-align: middle;\n",
       "    }\n",
       "\n",
       "    .dataframe tbody tr th {\n",
       "        vertical-align: top;\n",
       "    }\n",
       "\n",
       "    .dataframe thead th {\n",
       "        text-align: right;\n",
       "    }\n",
       "</style>\n",
       "<table border=\"1\" class=\"dataframe\">\n",
       "  <thead>\n",
       "    <tr style=\"text-align: right;\">\n",
       "      <th></th>\n",
       "      <th>H_Distance</th>\n",
       "      <th>Month</th>\n",
       "      <th>Year_2009</th>\n",
       "      <th>Year_2010</th>\n",
       "      <th>Year_2011</th>\n",
       "      <th>Year_2013</th>\n",
       "      <th>Year_2014</th>\n",
       "      <th>Year_2015</th>\n",
       "    </tr>\n",
       "  </thead>\n",
       "  <tbody>\n",
       "    <tr>\n",
       "      <th>63696</th>\n",
       "      <td>3.761288</td>\n",
       "      <td>1</td>\n",
       "      <td>0</td>\n",
       "      <td>0</td>\n",
       "      <td>0</td>\n",
       "      <td>0</td>\n",
       "      <td>1</td>\n",
       "      <td>0</td>\n",
       "    </tr>\n",
       "    <tr>\n",
       "      <th>44314</th>\n",
       "      <td>1.045478</td>\n",
       "      <td>4</td>\n",
       "      <td>0</td>\n",
       "      <td>1</td>\n",
       "      <td>0</td>\n",
       "      <td>0</td>\n",
       "      <td>0</td>\n",
       "      <td>0</td>\n",
       "    </tr>\n",
       "    <tr>\n",
       "      <th>579</th>\n",
       "      <td>7.075611</td>\n",
       "      <td>12</td>\n",
       "      <td>0</td>\n",
       "      <td>0</td>\n",
       "      <td>0</td>\n",
       "      <td>0</td>\n",
       "      <td>1</td>\n",
       "      <td>0</td>\n",
       "    </tr>\n",
       "    <tr>\n",
       "      <th>14567</th>\n",
       "      <td>2.535792</td>\n",
       "      <td>6</td>\n",
       "      <td>0</td>\n",
       "      <td>0</td>\n",
       "      <td>0</td>\n",
       "      <td>0</td>\n",
       "      <td>0</td>\n",
       "      <td>1</td>\n",
       "    </tr>\n",
       "    <tr>\n",
       "      <th>42283</th>\n",
       "      <td>2.686611</td>\n",
       "      <td>6</td>\n",
       "      <td>0</td>\n",
       "      <td>1</td>\n",
       "      <td>0</td>\n",
       "      <td>0</td>\n",
       "      <td>0</td>\n",
       "      <td>0</td>\n",
       "    </tr>\n",
       "    <tr>\n",
       "      <th>...</th>\n",
       "      <td>...</td>\n",
       "      <td>...</td>\n",
       "      <td>...</td>\n",
       "      <td>...</td>\n",
       "      <td>...</td>\n",
       "      <td>...</td>\n",
       "      <td>...</td>\n",
       "      <td>...</td>\n",
       "    </tr>\n",
       "    <tr>\n",
       "      <th>86713</th>\n",
       "      <td>2.926082</td>\n",
       "      <td>5</td>\n",
       "      <td>0</td>\n",
       "      <td>0</td>\n",
       "      <td>0</td>\n",
       "      <td>1</td>\n",
       "      <td>0</td>\n",
       "      <td>0</td>\n",
       "    </tr>\n",
       "    <tr>\n",
       "      <th>40830</th>\n",
       "      <td>3.647272</td>\n",
       "      <td>11</td>\n",
       "      <td>0</td>\n",
       "      <td>0</td>\n",
       "      <td>0</td>\n",
       "      <td>0</td>\n",
       "      <td>1</td>\n",
       "      <td>0</td>\n",
       "    </tr>\n",
       "    <tr>\n",
       "      <th>82712</th>\n",
       "      <td>1.409275</td>\n",
       "      <td>12</td>\n",
       "      <td>0</td>\n",
       "      <td>1</td>\n",
       "      <td>0</td>\n",
       "      <td>0</td>\n",
       "      <td>0</td>\n",
       "      <td>0</td>\n",
       "    </tr>\n",
       "    <tr>\n",
       "      <th>41216</th>\n",
       "      <td>3.137383</td>\n",
       "      <td>10</td>\n",
       "      <td>0</td>\n",
       "      <td>0</td>\n",
       "      <td>0</td>\n",
       "      <td>1</td>\n",
       "      <td>0</td>\n",
       "      <td>0</td>\n",
       "    </tr>\n",
       "    <tr>\n",
       "      <th>91642</th>\n",
       "      <td>1.170156</td>\n",
       "      <td>4</td>\n",
       "      <td>0</td>\n",
       "      <td>0</td>\n",
       "      <td>1</td>\n",
       "      <td>0</td>\n",
       "      <td>0</td>\n",
       "      <td>0</td>\n",
       "    </tr>\n",
       "  </tbody>\n",
       "</table>\n",
       "<p>21959 rows × 8 columns</p>\n",
       "</div>"
      ],
      "text/plain": [
       "       H_Distance  Month  Year_2009  Year_2010  Year_2011  Year_2013  \\\n",
       "63696    3.761288      1          0          0          0          0   \n",
       "44314    1.045478      4          0          1          0          0   \n",
       "579      7.075611     12          0          0          0          0   \n",
       "14567    2.535792      6          0          0          0          0   \n",
       "42283    2.686611      6          0          1          0          0   \n",
       "...           ...    ...        ...        ...        ...        ...   \n",
       "86713    2.926082      5          0          0          0          1   \n",
       "40830    3.647272     11          0          0          0          0   \n",
       "82712    1.409275     12          0          1          0          0   \n",
       "41216    3.137383     10          0          0          0          1   \n",
       "91642    1.170156      4          0          0          1          0   \n",
       "\n",
       "       Year_2014  Year_2015  \n",
       "63696          1          0  \n",
       "44314          0          0  \n",
       "579            1          0  \n",
       "14567          0          1  \n",
       "42283          0          0  \n",
       "...          ...        ...  \n",
       "86713          0          0  \n",
       "40830          1          0  \n",
       "82712          0          0  \n",
       "41216          0          0  \n",
       "91642          0          0  \n",
       "\n",
       "[21959 rows x 8 columns]"
      ]
     },
     "execution_count": 75,
     "metadata": {},
     "output_type": "execute_result"
    }
   ],
   "source": [
    "X_test"
   ]
  },
  {
   "cell_type": "code",
   "execution_count": 76,
   "id": "206aa2c7",
   "metadata": {},
   "outputs": [
    {
     "data": {
      "text/html": [
       "<div>\n",
       "<style scoped>\n",
       "    .dataframe tbody tr th:only-of-type {\n",
       "        vertical-align: middle;\n",
       "    }\n",
       "\n",
       "    .dataframe tbody tr th {\n",
       "        vertical-align: top;\n",
       "    }\n",
       "\n",
       "    .dataframe thead th {\n",
       "        text-align: right;\n",
       "    }\n",
       "</style>\n",
       "<table border=\"1\" class=\"dataframe\">\n",
       "  <thead>\n",
       "    <tr style=\"text-align: right;\">\n",
       "      <th></th>\n",
       "      <th>H_Distance</th>\n",
       "      <th>Month</th>\n",
       "      <th>Year_2009</th>\n",
       "      <th>Year_2010</th>\n",
       "      <th>Year_2011</th>\n",
       "      <th>Year_2013</th>\n",
       "      <th>Year_2014</th>\n",
       "      <th>Year_2015</th>\n",
       "      <th>fare_amount</th>\n",
       "    </tr>\n",
       "  </thead>\n",
       "  <tbody>\n",
       "    <tr>\n",
       "      <th>0</th>\n",
       "      <td>1.116850</td>\n",
       "      <td>4</td>\n",
       "      <td>1</td>\n",
       "      <td>0</td>\n",
       "      <td>0</td>\n",
       "      <td>0</td>\n",
       "      <td>0</td>\n",
       "      <td>0</td>\n",
       "      <td>4.9</td>\n",
       "    </tr>\n",
       "    <tr>\n",
       "      <th>1</th>\n",
       "      <td>1.055053</td>\n",
       "      <td>7</td>\n",
       "      <td>0</td>\n",
       "      <td>0</td>\n",
       "      <td>0</td>\n",
       "      <td>0</td>\n",
       "      <td>0</td>\n",
       "      <td>0</td>\n",
       "      <td>4.9</td>\n",
       "    </tr>\n",
       "    <tr>\n",
       "      <th>2</th>\n",
       "      <td>2.715959</td>\n",
       "      <td>2</td>\n",
       "      <td>0</td>\n",
       "      <td>0</td>\n",
       "      <td>1</td>\n",
       "      <td>0</td>\n",
       "      <td>0</td>\n",
       "      <td>0</td>\n",
       "      <td>6.9</td>\n",
       "    </tr>\n",
       "    <tr>\n",
       "      <th>3</th>\n",
       "      <td>5.101370</td>\n",
       "      <td>10</td>\n",
       "      <td>0</td>\n",
       "      <td>1</td>\n",
       "      <td>0</td>\n",
       "      <td>0</td>\n",
       "      <td>0</td>\n",
       "      <td>0</td>\n",
       "      <td>14.1</td>\n",
       "    </tr>\n",
       "    <tr>\n",
       "      <th>5</th>\n",
       "      <td>7.088301</td>\n",
       "      <td>10</td>\n",
       "      <td>1</td>\n",
       "      <td>0</td>\n",
       "      <td>0</td>\n",
       "      <td>0</td>\n",
       "      <td>0</td>\n",
       "      <td>0</td>\n",
       "      <td>21.3</td>\n",
       "    </tr>\n",
       "  </tbody>\n",
       "</table>\n",
       "</div>"
      ],
      "text/plain": [
       "   H_Distance  Month  Year_2009  Year_2010  Year_2011  Year_2013  Year_2014  \\\n",
       "0    1.116850      4          1          0          0          0          0   \n",
       "1    1.055053      7          0          0          0          0          0   \n",
       "2    2.715959      2          0          0          1          0          0   \n",
       "3    5.101370     10          0          1          0          0          0   \n",
       "5    7.088301     10          1          0          0          0          0   \n",
       "\n",
       "   Year_2015  fare_amount  \n",
       "0          0          4.9  \n",
       "1          0          4.9  \n",
       "2          0          6.9  \n",
       "3          0         14.1  \n",
       "5          0         21.3  "
      ]
     },
     "execution_count": 76,
     "metadata": {},
     "output_type": "execute_result"
    }
   ],
   "source": [
    "train.head()"
   ]
  },
  {
   "cell_type": "code",
   "execution_count": 77,
   "id": "e1a45db4",
   "metadata": {},
   "outputs": [
    {
     "data": {
      "text/html": [
       "<div>\n",
       "<style scoped>\n",
       "    .dataframe tbody tr th:only-of-type {\n",
       "        vertical-align: middle;\n",
       "    }\n",
       "\n",
       "    .dataframe tbody tr th {\n",
       "        vertical-align: top;\n",
       "    }\n",
       "\n",
       "    .dataframe thead th {\n",
       "        text-align: right;\n",
       "    }\n",
       "</style>\n",
       "<table border=\"1\" class=\"dataframe\">\n",
       "  <thead>\n",
       "    <tr style=\"text-align: right;\">\n",
       "      <th></th>\n",
       "      <th>H_Distance</th>\n",
       "      <th>Month</th>\n",
       "      <th>Year_2009</th>\n",
       "      <th>Year_2010</th>\n",
       "      <th>Year_2011</th>\n",
       "      <th>Year_2013</th>\n",
       "      <th>Year_2014</th>\n",
       "      <th>Year_2015</th>\n",
       "      <th>fare_amount</th>\n",
       "    </tr>\n",
       "  </thead>\n",
       "  <tbody>\n",
       "    <tr>\n",
       "      <th>0</th>\n",
       "      <td>0.829074</td>\n",
       "      <td>2</td>\n",
       "      <td>0</td>\n",
       "      <td>0</td>\n",
       "      <td>0</td>\n",
       "      <td>0</td>\n",
       "      <td>1</td>\n",
       "      <td>0</td>\n",
       "      <td>21.5</td>\n",
       "    </tr>\n",
       "    <tr>\n",
       "      <th>1</th>\n",
       "      <td>6.243362</td>\n",
       "      <td>4</td>\n",
       "      <td>0</td>\n",
       "      <td>0</td>\n",
       "      <td>1</td>\n",
       "      <td>0</td>\n",
       "      <td>0</td>\n",
       "      <td>0</td>\n",
       "      <td>14.9</td>\n",
       "    </tr>\n",
       "    <tr>\n",
       "      <th>2</th>\n",
       "      <td>3.301228</td>\n",
       "      <td>11</td>\n",
       "      <td>0</td>\n",
       "      <td>0</td>\n",
       "      <td>0</td>\n",
       "      <td>0</td>\n",
       "      <td>0</td>\n",
       "      <td>0</td>\n",
       "      <td>9.5</td>\n",
       "    </tr>\n",
       "    <tr>\n",
       "      <th>3</th>\n",
       "      <td>3.019340</td>\n",
       "      <td>3</td>\n",
       "      <td>0</td>\n",
       "      <td>0</td>\n",
       "      <td>1</td>\n",
       "      <td>0</td>\n",
       "      <td>0</td>\n",
       "      <td>0</td>\n",
       "      <td>7.7</td>\n",
       "    </tr>\n",
       "    <tr>\n",
       "      <th>4</th>\n",
       "      <td>3.787893</td>\n",
       "      <td>4</td>\n",
       "      <td>0</td>\n",
       "      <td>0</td>\n",
       "      <td>0</td>\n",
       "      <td>0</td>\n",
       "      <td>0</td>\n",
       "      <td>0</td>\n",
       "      <td>11.7</td>\n",
       "    </tr>\n",
       "  </tbody>\n",
       "</table>\n",
       "</div>"
      ],
      "text/plain": [
       "   H_Distance  Month  Year_2009  Year_2010  Year_2011  Year_2013  Year_2014  \\\n",
       "0    0.829074      2          0          0          0          0          1   \n",
       "1    6.243362      4          0          0          1          0          0   \n",
       "2    3.301228     11          0          0          0          0          0   \n",
       "3    3.019340      3          0          0          1          0          0   \n",
       "4    3.787893      4          0          0          0          0          0   \n",
       "\n",
       "   Year_2015  fare_amount  \n",
       "0          0         21.5  \n",
       "1          0         14.9  \n",
       "2          0          9.5  \n",
       "3          0          7.7  \n",
       "4          0         11.7  "
      ]
     },
     "execution_count": 77,
     "metadata": {},
     "output_type": "execute_result"
    }
   ],
   "source": [
    "## shufflee the dataset\n",
    "train = train.sample(frac=1).reset_index()\n",
    "train = train.drop('index',axis=1)\n",
    "train.head()"
   ]
  },
  {
   "cell_type": "code",
   "execution_count": 78,
   "id": "fbfe6ee7",
   "metadata": {},
   "outputs": [],
   "source": [
    "a = len(train)//5\n",
    "b =[train_1,train_2,train_3,train_4,train_5] = train[0:a],train[a:2*a],train[2*a:3*a],train[3*a:4*a],train[4*a:]\n",
    "    "
   ]
  },
  {
   "cell_type": "code",
   "execution_count": 79,
   "id": "46818639",
   "metadata": {},
   "outputs": [
    {
     "data": {
      "text/html": [
       "<div>\n",
       "<style scoped>\n",
       "    .dataframe tbody tr th:only-of-type {\n",
       "        vertical-align: middle;\n",
       "    }\n",
       "\n",
       "    .dataframe tbody tr th {\n",
       "        vertical-align: top;\n",
       "    }\n",
       "\n",
       "    .dataframe thead th {\n",
       "        text-align: right;\n",
       "    }\n",
       "</style>\n",
       "<table border=\"1\" class=\"dataframe\">\n",
       "  <thead>\n",
       "    <tr style=\"text-align: right;\">\n",
       "      <th></th>\n",
       "      <th>H_Distance</th>\n",
       "      <th>Month</th>\n",
       "      <th>Year_2009</th>\n",
       "      <th>Year_2010</th>\n",
       "      <th>Year_2011</th>\n",
       "      <th>Year_2013</th>\n",
       "      <th>Year_2014</th>\n",
       "      <th>Year_2015</th>\n",
       "      <th>fare_amount</th>\n",
       "    </tr>\n",
       "  </thead>\n",
       "  <tbody>\n",
       "    <tr>\n",
       "      <th>0</th>\n",
       "      <td>0.829074</td>\n",
       "      <td>2</td>\n",
       "      <td>0</td>\n",
       "      <td>0</td>\n",
       "      <td>0</td>\n",
       "      <td>0</td>\n",
       "      <td>1</td>\n",
       "      <td>0</td>\n",
       "      <td>21.5</td>\n",
       "    </tr>\n",
       "    <tr>\n",
       "      <th>1</th>\n",
       "      <td>6.243362</td>\n",
       "      <td>4</td>\n",
       "      <td>0</td>\n",
       "      <td>0</td>\n",
       "      <td>1</td>\n",
       "      <td>0</td>\n",
       "      <td>0</td>\n",
       "      <td>0</td>\n",
       "      <td>14.9</td>\n",
       "    </tr>\n",
       "    <tr>\n",
       "      <th>2</th>\n",
       "      <td>3.301228</td>\n",
       "      <td>11</td>\n",
       "      <td>0</td>\n",
       "      <td>0</td>\n",
       "      <td>0</td>\n",
       "      <td>0</td>\n",
       "      <td>0</td>\n",
       "      <td>0</td>\n",
       "      <td>9.5</td>\n",
       "    </tr>\n",
       "    <tr>\n",
       "      <th>3</th>\n",
       "      <td>3.019340</td>\n",
       "      <td>3</td>\n",
       "      <td>0</td>\n",
       "      <td>0</td>\n",
       "      <td>1</td>\n",
       "      <td>0</td>\n",
       "      <td>0</td>\n",
       "      <td>0</td>\n",
       "      <td>7.7</td>\n",
       "    </tr>\n",
       "    <tr>\n",
       "      <th>4</th>\n",
       "      <td>3.787893</td>\n",
       "      <td>4</td>\n",
       "      <td>0</td>\n",
       "      <td>0</td>\n",
       "      <td>0</td>\n",
       "      <td>0</td>\n",
       "      <td>0</td>\n",
       "      <td>0</td>\n",
       "      <td>11.7</td>\n",
       "    </tr>\n",
       "    <tr>\n",
       "      <th>...</th>\n",
       "      <td>...</td>\n",
       "      <td>...</td>\n",
       "      <td>...</td>\n",
       "      <td>...</td>\n",
       "      <td>...</td>\n",
       "      <td>...</td>\n",
       "      <td>...</td>\n",
       "      <td>...</td>\n",
       "      <td>...</td>\n",
       "    </tr>\n",
       "    <tr>\n",
       "      <th>70263</th>\n",
       "      <td>1.822062</td>\n",
       "      <td>12</td>\n",
       "      <td>0</td>\n",
       "      <td>0</td>\n",
       "      <td>1</td>\n",
       "      <td>0</td>\n",
       "      <td>0</td>\n",
       "      <td>0</td>\n",
       "      <td>8.9</td>\n",
       "    </tr>\n",
       "    <tr>\n",
       "      <th>70264</th>\n",
       "      <td>11.193730</td>\n",
       "      <td>11</td>\n",
       "      <td>1</td>\n",
       "      <td>0</td>\n",
       "      <td>0</td>\n",
       "      <td>0</td>\n",
       "      <td>0</td>\n",
       "      <td>0</td>\n",
       "      <td>33.3</td>\n",
       "    </tr>\n",
       "    <tr>\n",
       "      <th>70265</th>\n",
       "      <td>0.500170</td>\n",
       "      <td>4</td>\n",
       "      <td>0</td>\n",
       "      <td>1</td>\n",
       "      <td>0</td>\n",
       "      <td>0</td>\n",
       "      <td>0</td>\n",
       "      <td>0</td>\n",
       "      <td>4.9</td>\n",
       "    </tr>\n",
       "    <tr>\n",
       "      <th>70266</th>\n",
       "      <td>5.150137</td>\n",
       "      <td>10</td>\n",
       "      <td>0</td>\n",
       "      <td>0</td>\n",
       "      <td>0</td>\n",
       "      <td>1</td>\n",
       "      <td>0</td>\n",
       "      <td>0</td>\n",
       "      <td>14.5</td>\n",
       "    </tr>\n",
       "    <tr>\n",
       "      <th>70267</th>\n",
       "      <td>0.756011</td>\n",
       "      <td>4</td>\n",
       "      <td>0</td>\n",
       "      <td>1</td>\n",
       "      <td>0</td>\n",
       "      <td>0</td>\n",
       "      <td>0</td>\n",
       "      <td>0</td>\n",
       "      <td>11.7</td>\n",
       "    </tr>\n",
       "  </tbody>\n",
       "</table>\n",
       "<p>70268 rows × 9 columns</p>\n",
       "</div>"
      ],
      "text/plain": [
       "       H_Distance  Month  Year_2009  Year_2010  Year_2011  Year_2013  \\\n",
       "0        0.829074      2          0          0          0          0   \n",
       "1        6.243362      4          0          0          1          0   \n",
       "2        3.301228     11          0          0          0          0   \n",
       "3        3.019340      3          0          0          1          0   \n",
       "4        3.787893      4          0          0          0          0   \n",
       "...           ...    ...        ...        ...        ...        ...   \n",
       "70263    1.822062     12          0          0          1          0   \n",
       "70264   11.193730     11          1          0          0          0   \n",
       "70265    0.500170      4          0          1          0          0   \n",
       "70266    5.150137     10          0          0          0          1   \n",
       "70267    0.756011      4          0          1          0          0   \n",
       "\n",
       "       Year_2014  Year_2015  fare_amount  \n",
       "0              1          0         21.5  \n",
       "1              0          0         14.9  \n",
       "2              0          0          9.5  \n",
       "3              0          0          7.7  \n",
       "4              0          0         11.7  \n",
       "...          ...        ...          ...  \n",
       "70263          0          0          8.9  \n",
       "70264          0          0         33.3  \n",
       "70265          0          0          4.9  \n",
       "70266          0          0         14.5  \n",
       "70267          0          0         11.7  \n",
       "\n",
       "[70268 rows x 9 columns]"
      ]
     },
     "execution_count": 79,
     "metadata": {},
     "output_type": "execute_result"
    }
   ],
   "source": [
    " pd.concat(b[:4],axis=0)"
   ]
  },
  {
   "cell_type": "code",
   "execution_count": 80,
   "id": "c7786d63",
   "metadata": {},
   "outputs": [
    {
     "data": {
      "text/plain": [
       "0.7494714505934531"
      ]
     },
     "execution_count": 80,
     "metadata": {},
     "output_type": "execute_result"
    }
   ],
   "source": [
    "## 1st iteration\n",
    "train = pd.concat(b[:4],axis=0)\n",
    "test = b[4]\n",
    "x_train,x_test = train.drop('fare_amount',axis=1),test.drop('fare_amount',axis=1)\n",
    "y_train,y_test = train['fare_amount'],test['fare_amount']\n",
    "c  = LinearRegression()\n",
    "c = c.fit(x_train,y_train)\n",
    "c.score(x_test,y_test)"
   ]
  },
  {
   "cell_type": "code",
   "execution_count": 81,
   "id": "ebb7c259",
   "metadata": {},
   "outputs": [
    {
     "data": {
      "text/plain": [
       "0.743553338713822"
      ]
     },
     "execution_count": 81,
     "metadata": {},
     "output_type": "execute_result"
    }
   ],
   "source": [
    "## 2nd iteration \n",
    "train = pd.concat(b[:1]+b[2:],axis=0)\n",
    "test = b[1]\n",
    "x_train,x_test = train.drop('fare_amount',axis=1),test.drop('fare_amount',axis=1)\n",
    "y_train,y_test = train['fare_amount'],test['fare_amount']\n",
    "d  = LinearRegression()\n",
    "d = le.fit(x_train,y_train)\n",
    "d.score(x_test,y_test)"
   ]
  },
  {
   "cell_type": "code",
   "execution_count": 82,
   "id": "fc7c82d8",
   "metadata": {},
   "outputs": [
    {
     "data": {
      "text/plain": [
       "0.7423371729823334"
      ]
     },
     "execution_count": 82,
     "metadata": {},
     "output_type": "execute_result"
    }
   ],
   "source": [
    "## 3rd iteration \n",
    "train = pd.concat(b[:2]+b[3:],axis=0)\n",
    "test = b[2]\n",
    "x_train,x_test = train.drop('fare_amount',axis=1),test.drop('fare_amount',axis=1)\n",
    "y_train,y_test = train['fare_amount'],test['fare_amount']\n",
    "e = LinearRegression()\n",
    "e = le.fit(x_train,y_train)\n",
    "e.score(x_test,y_test)"
   ]
  },
  {
   "cell_type": "code",
   "execution_count": 83,
   "id": "595532e0",
   "metadata": {},
   "outputs": [
    {
     "data": {
      "text/plain": [
       "0.7487999854873857"
      ]
     },
     "execution_count": 83,
     "metadata": {},
     "output_type": "execute_result"
    }
   ],
   "source": [
    "## 4th iteration \n",
    "train = pd.concat(b[:3]+b[4:],axis=0)\n",
    "test = b[3]\n",
    "x_train,x_test = train.drop('fare_amount',axis=1),test.drop('fare_amount',axis=1)\n",
    "y_train,y_test = train['fare_amount'],test['fare_amount']\n",
    "e = LinearRegression()\n",
    "e = le.fit(x_train,y_train)\n",
    "e.score(x_test,y_test)"
   ]
  },
  {
   "cell_type": "code",
   "execution_count": 84,
   "id": "0d13c097",
   "metadata": {},
   "outputs": [
    {
     "data": {
      "text/plain": [
       "0.7494714505934531"
      ]
     },
     "execution_count": 84,
     "metadata": {},
     "output_type": "execute_result"
    }
   ],
   "source": [
    "## 5th iteration\n",
    "train = pd.concat(b[:4]+b[5:],axis=0)\n",
    "test = b[4]\n",
    "x_train,x_test = train.drop('fare_amount',axis=1),test.drop('fare_amount',axis=1)\n",
    "y_train,y_test = train['fare_amount'],test['fare_amount']\n",
    "e = LinearRegression()\n",
    "e = le.fit(x_train,y_train)\n",
    "e.score(x_test,y_test)"
   ]
  },
  {
   "cell_type": "code",
   "execution_count": 85,
   "id": "84cbdfd6",
   "metadata": {},
   "outputs": [
    {
     "data": {
      "text/plain": [
       "LinearRegression()"
      ]
     },
     "execution_count": 85,
     "metadata": {},
     "output_type": "execute_result"
    }
   ],
   "source": [
    "## Highest accuracy score is 76.6%\n",
    "e"
   ]
  },
  {
   "cell_type": "code",
   "execution_count": 86,
   "id": "41cef6f9",
   "metadata": {},
   "outputs": [
    {
     "data": {
      "text/html": [
       "<div>\n",
       "<style scoped>\n",
       "    .dataframe tbody tr th:only-of-type {\n",
       "        vertical-align: middle;\n",
       "    }\n",
       "\n",
       "    .dataframe tbody tr th {\n",
       "        vertical-align: top;\n",
       "    }\n",
       "\n",
       "    .dataframe thead th {\n",
       "        text-align: right;\n",
       "    }\n",
       "</style>\n",
       "<table border=\"1\" class=\"dataframe\">\n",
       "  <thead>\n",
       "    <tr style=\"text-align: right;\">\n",
       "      <th></th>\n",
       "      <th>H_Distance</th>\n",
       "      <th>Month</th>\n",
       "      <th>Year_2009</th>\n",
       "      <th>Year_2010</th>\n",
       "      <th>Year_2011</th>\n",
       "      <th>Year_2013</th>\n",
       "      <th>Year_2014</th>\n",
       "      <th>Year_2015</th>\n",
       "    </tr>\n",
       "  </thead>\n",
       "  <tbody>\n",
       "    <tr>\n",
       "      <th>0</th>\n",
       "      <td>2.323260</td>\n",
       "      <td>1</td>\n",
       "      <td>0</td>\n",
       "      <td>0</td>\n",
       "      <td>0</td>\n",
       "      <td>0</td>\n",
       "      <td>0</td>\n",
       "      <td>1</td>\n",
       "    </tr>\n",
       "    <tr>\n",
       "      <th>1</th>\n",
       "      <td>2.425353</td>\n",
       "      <td>1</td>\n",
       "      <td>0</td>\n",
       "      <td>0</td>\n",
       "      <td>0</td>\n",
       "      <td>0</td>\n",
       "      <td>0</td>\n",
       "      <td>1</td>\n",
       "    </tr>\n",
       "    <tr>\n",
       "      <th>2</th>\n",
       "      <td>0.618628</td>\n",
       "      <td>10</td>\n",
       "      <td>0</td>\n",
       "      <td>0</td>\n",
       "      <td>1</td>\n",
       "      <td>0</td>\n",
       "      <td>0</td>\n",
       "      <td>0</td>\n",
       "    </tr>\n",
       "    <tr>\n",
       "      <th>3</th>\n",
       "      <td>1.961033</td>\n",
       "      <td>12</td>\n",
       "      <td>0</td>\n",
       "      <td>0</td>\n",
       "      <td>0</td>\n",
       "      <td>0</td>\n",
       "      <td>0</td>\n",
       "      <td>0</td>\n",
       "    </tr>\n",
       "    <tr>\n",
       "      <th>4</th>\n",
       "      <td>5.387301</td>\n",
       "      <td>12</td>\n",
       "      <td>0</td>\n",
       "      <td>0</td>\n",
       "      <td>0</td>\n",
       "      <td>0</td>\n",
       "      <td>0</td>\n",
       "      <td>0</td>\n",
       "    </tr>\n",
       "  </tbody>\n",
       "</table>\n",
       "</div>"
      ],
      "text/plain": [
       "   H_Distance  Month  Year_2009  Year_2010  Year_2011  Year_2013  Year_2014  \\\n",
       "0    2.323260      1          0          0          0          0          0   \n",
       "1    2.425353      1          0          0          0          0          0   \n",
       "2    0.618628     10          0          0          1          0          0   \n",
       "3    1.961033     12          0          0          0          0          0   \n",
       "4    5.387301     12          0          0          0          0          0   \n",
       "\n",
       "   Year_2015  \n",
       "0          1  \n",
       "1          1  \n",
       "2          0  \n",
       "3          0  \n",
       "4          0  "
      ]
     },
     "execution_count": 86,
     "metadata": {},
     "output_type": "execute_result"
    }
   ],
   "source": [
    "## test dataset\n",
    "testt.head()"
   ]
  },
  {
   "cell_type": "code",
   "execution_count": 87,
   "id": "bbb3663a",
   "metadata": {},
   "outputs": [
    {
     "data": {
      "text/plain": [
       "(9914, 8)"
      ]
     },
     "execution_count": 87,
     "metadata": {},
     "output_type": "execute_result"
    }
   ],
   "source": [
    "testt.shape"
   ]
  },
  {
   "cell_type": "code",
   "execution_count": 88,
   "id": "d2ea5b10",
   "metadata": {},
   "outputs": [],
   "source": [
    "## predict y\n",
    "y_pred = e.predict(testt)"
   ]
  },
  {
   "cell_type": "code",
   "execution_count": 89,
   "id": "f1ba2723",
   "metadata": {},
   "outputs": [],
   "source": [
    "df1 = pd.DataFrame(y_pred,columns=['fare_amount'])"
   ]
  },
  {
   "cell_type": "code",
   "execution_count": 90,
   "id": "c43c77c5",
   "metadata": {},
   "outputs": [
    {
     "data": {
      "text/html": [
       "<div>\n",
       "<style scoped>\n",
       "    .dataframe tbody tr th:only-of-type {\n",
       "        vertical-align: middle;\n",
       "    }\n",
       "\n",
       "    .dataframe tbody tr th {\n",
       "        vertical-align: top;\n",
       "    }\n",
       "\n",
       "    .dataframe thead th {\n",
       "        text-align: right;\n",
       "    }\n",
       "</style>\n",
       "<table border=\"1\" class=\"dataframe\">\n",
       "  <thead>\n",
       "    <tr style=\"text-align: right;\">\n",
       "      <th></th>\n",
       "      <th>fare_amount</th>\n",
       "    </tr>\n",
       "  </thead>\n",
       "  <tbody>\n",
       "    <tr>\n",
       "      <th>0</th>\n",
       "      <td>9.992347</td>\n",
       "    </tr>\n",
       "    <tr>\n",
       "      <th>1</th>\n",
       "      <td>10.209750</td>\n",
       "    </tr>\n",
       "    <tr>\n",
       "      <th>2</th>\n",
       "      <td>4.887392</td>\n",
       "    </tr>\n",
       "    <tr>\n",
       "      <th>3</th>\n",
       "      <td>8.353139</td>\n",
       "    </tr>\n",
       "    <tr>\n",
       "      <th>4</th>\n",
       "      <td>15.649237</td>\n",
       "    </tr>\n",
       "  </tbody>\n",
       "</table>\n",
       "</div>"
      ],
      "text/plain": [
       "   fare_amount\n",
       "0     9.992347\n",
       "1    10.209750\n",
       "2     4.887392\n",
       "3     8.353139\n",
       "4    15.649237"
      ]
     },
     "execution_count": 90,
     "metadata": {},
     "output_type": "execute_result"
    }
   ],
   "source": [
    "df1.head()"
   ]
  },
  {
   "cell_type": "code",
   "execution_count": 91,
   "id": "cebeea29",
   "metadata": {},
   "outputs": [],
   "source": [
    "df1.to_csv('fare_amount.csv')"
   ]
  },
  {
   "cell_type": "code",
   "execution_count": null,
   "id": "8ed3e0d8",
   "metadata": {},
   "outputs": [],
   "source": []
  },
  {
   "cell_type": "code",
   "execution_count": null,
   "id": "35e7ae10",
   "metadata": {},
   "outputs": [],
   "source": []
  },
  {
   "cell_type": "code",
   "execution_count": null,
   "id": "ddf38c88",
   "metadata": {},
   "outputs": [],
   "source": []
  },
  {
   "cell_type": "code",
   "execution_count": null,
   "id": "1eb97330",
   "metadata": {},
   "outputs": [],
   "source": []
  },
  {
   "cell_type": "code",
   "execution_count": null,
   "id": "6273c0d7",
   "metadata": {},
   "outputs": [],
   "source": []
  },
  {
   "cell_type": "code",
   "execution_count": null,
   "id": "5b661d5c",
   "metadata": {},
   "outputs": [],
   "source": []
  },
  {
   "cell_type": "code",
   "execution_count": null,
   "id": "a07c99d7",
   "metadata": {},
   "outputs": [],
   "source": []
  },
  {
   "cell_type": "code",
   "execution_count": null,
   "id": "95d699b1",
   "metadata": {},
   "outputs": [],
   "source": []
  },
  {
   "cell_type": "code",
   "execution_count": null,
   "id": "35b2d26c",
   "metadata": {},
   "outputs": [],
   "source": []
  },
  {
   "cell_type": "code",
   "execution_count": null,
   "id": "db6c5550",
   "metadata": {},
   "outputs": [],
   "source": []
  },
  {
   "cell_type": "code",
   "execution_count": null,
   "id": "c64f284e",
   "metadata": {},
   "outputs": [],
   "source": []
  },
  {
   "cell_type": "code",
   "execution_count": null,
   "id": "98a8798b",
   "metadata": {},
   "outputs": [],
   "source": []
  },
  {
   "cell_type": "code",
   "execution_count": null,
   "id": "1377e862",
   "metadata": {},
   "outputs": [],
   "source": []
  },
  {
   "cell_type": "code",
   "execution_count": null,
   "id": "af58e092",
   "metadata": {},
   "outputs": [],
   "source": []
  },
  {
   "cell_type": "code",
   "execution_count": null,
   "id": "b47b16e5",
   "metadata": {},
   "outputs": [],
   "source": []
  },
  {
   "cell_type": "code",
   "execution_count": null,
   "id": "cfc0e149",
   "metadata": {},
   "outputs": [],
   "source": []
  }
 ],
 "metadata": {
  "kernelspec": {
   "display_name": "Python 3",
   "language": "python",
   "name": "python3"
  },
  "language_info": {
   "codemirror_mode": {
    "name": "ipython",
    "version": 3
   },
   "file_extension": ".py",
   "mimetype": "text/x-python",
   "name": "python",
   "nbconvert_exporter": "python",
   "pygments_lexer": "ipython3",
   "version": "3.6.13"
  },
  "vscode": {
   "interpreter": {
    "hash": "40d3a090f54c6569ab1632332b64b2c03c39dcf918b08424e98f38b5ae0af88f"
   }
  }
 },
 "nbformat": 4,
 "nbformat_minor": 5
}
